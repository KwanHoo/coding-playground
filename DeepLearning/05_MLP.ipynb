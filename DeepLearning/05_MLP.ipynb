{
  "nbformat": 4,
  "nbformat_minor": 0,
  "metadata": {
    "kernelspec": {
      "display_name": "Python 3",
      "language": "python",
      "name": "python3"
    },
    "language_info": {
      "codemirror_mode": {
        "name": "ipython",
        "version": 3
      },
      "file_extension": ".py",
      "mimetype": "text/x-python",
      "name": "python",
      "nbconvert_exporter": "python",
      "pygments_lexer": "ipython3",
      "version": "3.7.5"
    },
    "colab": {
      "name": "05.MLP.ipynb",
      "provenance": [],
      "collapsed_sections": []
    },
    "accelerator": "GPU"
  },
  "cells": [
    {
      "cell_type": "markdown",
      "metadata": {
        "id": "3hcXvwgpLDpi"
      },
      "source": [
        "<a href=\"https://colab.research.google.com/github/minsuk-heo/tf2/blob/master/jupyter_notebooks/05.MLP.ipynb\" target=\"_parent\"><img src=\"https://colab.research.google.com/assets/colab-badge.svg\" alt=\"Open In Colab\"/></a>"
      ]
    },
    {
      "cell_type": "code",
      "metadata": {
        "id": "DH92c0pDLDpl"
      },
      "source": [
        "import numpy as np"
      ],
      "execution_count": 1,
      "outputs": []
    },
    {
      "cell_type": "code",
      "metadata": {
        "id": "qSNvHmZrLDpn",
        "colab": {
          "base_uri": "https://localhost:8080/"
        },
        "outputId": "0c59e469-82f4-4955-f15f-2095a6df1c81"
      },
      "source": [
        "# 소프트 맥스 실습\n",
        "def softmax(x):\n",
        "    return np.exp(x) / np.sum(np.exp(x), axis=0)\n",
        "scores = [1, 7, 2, 1, 1, 1, 1, 3, 1, 1]\n",
        "print(softmax(scores))"
      ],
      "execution_count": 2,
      "outputs": [
        {
          "output_type": "stream",
          "name": "stdout",
          "text": [
            "[0.00237792 0.95932017 0.00646385 0.00237792 0.00237792 0.00237792\n",
            " 0.00237792 0.01757056 0.00237792 0.00237792]\n"
          ]
        }
      ]
    },
    {
      "cell_type": "code",
      "metadata": {
        "id": "H_-EsAIkLDpp"
      },
      "source": [
        "from __future__ import absolute_import, division, print_function, unicode_literals\n",
        "\n",
        "try:\n",
        "  %tensorflow_version 2.x\n",
        "except Exception:\n",
        "  pass\n",
        "\n",
        "import tensorflow as tf\n",
        "tf.random.set_seed(1)"
      ],
      "execution_count": 3,
      "outputs": []
    },
    {
      "cell_type": "code",
      "metadata": {
        "id": "uI3VBWxWLDpq"
      },
      "source": [
        "import tensorflow as tf\n",
        "from tensorflow.keras.models import Sequential\n",
        "from tensorflow.keras.layers import Flatten\n",
        "from tensorflow.keras.layers import Dense\n",
        "from tensorflow.keras.layers import Activation"
      ],
      "execution_count": 4,
      "outputs": []
    },
    {
      "cell_type": "markdown",
      "metadata": {
        "id": "ZuKcxMVWLDpr"
      },
      "source": [
        "# Get MNIST Data"
      ]
    },
    {
      "cell_type": "code",
      "metadata": {
        "id": "PhoMAmNgLDps",
        "colab": {
          "base_uri": "https://localhost:8080/"
        },
        "outputId": "b6a1a1fb-1be5-4ba8-a5c6-31289b368f3b"
      },
      "source": [
        "(x_train, y_train), (x_test, y_test) = tf.keras.datasets.mnist.load_data()  # 데이터 로드\n",
        "x_train = x_train.astype('float32')\n",
        "x_test = x_test.astype('float32')\n",
        "\n",
        "\n",
        "# 노말라이즈\n",
        "gray_scale = 255    \n",
        "x_train /= gray_scale\n",
        "x_test /= gray_scale"
      ],
      "execution_count": 5,
      "outputs": [
        {
          "output_type": "stream",
          "name": "stdout",
          "text": [
            "Downloading data from https://storage.googleapis.com/tensorflow/tf-keras-datasets/mnist.npz\n",
            "11493376/11490434 [==============================] - 0s 0us/step\n",
            "11501568/11490434 [==============================] - 0s 0us/step\n"
          ]
        }
      ]
    },
    {
      "cell_type": "markdown",
      "metadata": {
        "id": "duGfIhRhLDpt"
      },
      "source": [
        "# MLP Model for classifiation"
      ]
    },
    {
      "cell_type": "code",
      "metadata": {
        "id": "19YpR6fkLDpv"
      },
      "source": [
        "model = Sequential([\n",
        "    Flatten(input_shape=(28, 28)),    # reshape 28 row * 28 column data to 28*28 rows  플레이튼\n",
        "    Dense(256, activation='sigmoid'), # dense layer 1\n",
        "    Dense(128, activation='sigmoid'), # dense layer 2\n",
        "    Dense(10, activation='softmax'),  # dense layer 3  활성함수로 softmax 사용\n",
        "])"
      ],
      "execution_count": 6,
      "outputs": []
    },
    {
      "cell_type": "code",
      "metadata": {
        "id": "1BXCPDz8LDpw"
      },
      "source": [
        "model.compile(optimizer='adam',\n",
        "              loss='sparse_categorical_crossentropy',\n",
        "              metrics=['accuracy'])  # 아담, 크로스엔트로피"
      ],
      "execution_count": 7,
      "outputs": []
    },
    {
      "cell_type": "markdown",
      "metadata": {
        "id": "ID8YtvXRLDpx"
      },
      "source": [
        "# Train"
      ]
    },
    {
      "cell_type": "code",
      "metadata": {
        "id": "bl1cSZ9ULDpx",
        "colab": {
          "base_uri": "https://localhost:8080/"
        },
        "outputId": "11dd4394-3a10-4cf3-833a-9660959b34b7"
      },
      "source": [
        "model.fit(x_train, y_train, epochs=10, batch_size=2000, validation_split = 0.2)"
      ],
      "execution_count": 8,
      "outputs": [
        {
          "output_type": "stream",
          "name": "stdout",
          "text": [
            "Epoch 1/10\n",
            "24/24 [==============================] - 3s 17ms/step - loss: 2.0567 - accuracy: 0.4371 - val_loss: 1.6765 - val_accuracy: 0.6772\n",
            "Epoch 2/10\n",
            "24/24 [==============================] - 0s 9ms/step - loss: 1.3339 - accuracy: 0.7271 - val_loss: 0.9877 - val_accuracy: 0.8015\n",
            "Epoch 3/10\n",
            "24/24 [==============================] - 0s 8ms/step - loss: 0.8276 - accuracy: 0.8205 - val_loss: 0.6429 - val_accuracy: 0.8677\n",
            "Epoch 4/10\n",
            "24/24 [==============================] - 0s 9ms/step - loss: 0.5810 - accuracy: 0.8687 - val_loss: 0.4766 - val_accuracy: 0.8901\n",
            "Epoch 5/10\n",
            "24/24 [==============================] - 0s 9ms/step - loss: 0.4562 - accuracy: 0.8891 - val_loss: 0.3923 - val_accuracy: 0.9030\n",
            "Epoch 6/10\n",
            "24/24 [==============================] - 0s 9ms/step - loss: 0.3887 - accuracy: 0.9003 - val_loss: 0.3438 - val_accuracy: 0.9107\n",
            "Epoch 7/10\n",
            "24/24 [==============================] - 0s 8ms/step - loss: 0.3469 - accuracy: 0.9077 - val_loss: 0.3120 - val_accuracy: 0.9163\n",
            "Epoch 8/10\n",
            "24/24 [==============================] - 0s 9ms/step - loss: 0.3178 - accuracy: 0.9137 - val_loss: 0.2903 - val_accuracy: 0.9215\n",
            "Epoch 9/10\n",
            "24/24 [==============================] - 0s 9ms/step - loss: 0.2956 - accuracy: 0.9183 - val_loss: 0.2714 - val_accuracy: 0.9253\n",
            "Epoch 10/10\n",
            "24/24 [==============================] - 0s 9ms/step - loss: 0.2770 - accuracy: 0.9222 - val_loss: 0.2568 - val_accuracy: 0.9292\n"
          ]
        },
        {
          "output_type": "execute_result",
          "data": {
            "text/plain": [
              "<keras.callbacks.History at 0x7f50301239d0>"
            ]
          },
          "metadata": {},
          "execution_count": 8
        }
      ]
    },
    {
      "cell_type": "markdown",
      "metadata": {
        "id": "sCuXQMENLDpy"
      },
      "source": [
        "# Test"
      ]
    },
    {
      "cell_type": "code",
      "metadata": {
        "id": "_hJUKIb6LDpy"
      },
      "source": [
        "results = model.evaluate(x_test,  y_test, verbose = 0)"
      ],
      "execution_count": 9,
      "outputs": []
    },
    {
      "cell_type": "code",
      "metadata": {
        "id": "7OQbWP6vLDp0",
        "colab": {
          "base_uri": "https://localhost:8080/"
        },
        "outputId": "eb63eb53-f9d2-4513-fc6e-43ebdced0bf0"
      },
      "source": [
        "print('test loss, test acc:', results)"
      ],
      "execution_count": 10,
      "outputs": [
        {
          "output_type": "stream",
          "name": "stdout",
          "text": [
            "test loss, test acc: [0.2646012604236603, 0.9257000088691711]\n"
          ]
        }
      ]
    }
  ]
}