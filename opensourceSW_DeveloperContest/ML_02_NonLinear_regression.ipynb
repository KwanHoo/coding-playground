{
  "nbformat": 4,
  "nbformat_minor": 0,
  "metadata": {
    "colab": {
      "name": "ML_02_Non_linear_regression.ipynb",
      "provenance": [],
      "collapsed_sections": []
    },
    "kernelspec": {
      "display_name": "Python 3",
      "name": "python3"
    },
    "accelerator": "GPU"
  },
  "cells": [
    {
      "cell_type": "markdown",
      "metadata": {
        "id": "view-in-github"
      },
      "source": [
        "<a href=\"https://colab.research.google.com/github/KwanHoo/coding-playground/blob/main/ML_01_regression.ipynb\" target=\"_parent\"><img src=\"https://colab.research.google.com/assets/colab-badge.svg\" alt=\"Open In Colab\"/></a>"
      ]
    },
    {
      "cell_type": "markdown",
      "metadata": {
        "id": "FhGuhbZ6M5tl"
      },
      "source": [
        "##### Copyright 2018 The TensorFlow Authors."
      ]
    },
    {
      "cell_type": "code",
      "metadata": {
        "cellView": "form",
        "id": "AwOEIRJC6Une"
      },
      "source": [
        "#@title Licensed under the Apache License, Version 2.0 (the \"License\");\n",
        "# you may not use this file except in compliance with the License.\n",
        "# You may obtain a copy of the License at\n",
        "#\n",
        "# https://www.apache.org/licenses/LICENSE-2.0\n",
        "#\n",
        "# Unless required by applicable law or agreed to in writing, software\n",
        "# distributed under the License is distributed on an \"AS IS\" BASIS,\n",
        "# WITHOUT WARRANTIES OR CONDITIONS OF ANY KIND, either express or implied.\n",
        "# See the License for the specific language governing permissions and\n",
        "# limitations under the License."
      ],
      "execution_count": null,
      "outputs": []
    },
    {
      "cell_type": "code",
      "metadata": {
        "cellView": "form",
        "id": "KyPEtTqk6VdG"
      },
      "source": [
        "#@title MIT License\n",
        "#\n",
        "# Copyright (c) 2017 François Chollet\n",
        "#\n",
        "# Permission is hereby granted, free of charge, to any person obtaining a\n",
        "# copy of this software and associated documentation files (the \"Software\"),\n",
        "# to deal in the Software without restriction, including without limitation\n",
        "# the rights to use, copy, modify, merge, publish, distribute, sublicense,\n",
        "# and/or sell copies of the Software, and to permit persons to whom the\n",
        "# Software is furnished to do so, subject to the following conditions:\n",
        "#\n",
        "# The above copyright notice and this permission notice shall be included in\n",
        "# all copies or substantial portions of the Software.\n",
        "#\n",
        "# THE SOFTWARE IS PROVIDED \"AS IS\", WITHOUT WARRANTY OF ANY KIND, EXPRESS OR\n",
        "# IMPLIED, INCLUDING BUT NOT LIMITED TO THE WARRANTIES OF MERCHANTABILITY,\n",
        "# FITNESS FOR A PARTICULAR PURPOSE AND NONINFRINGEMENT. IN NO EVENT SHALL\n",
        "# THE AUTHORS OR COPYRIGHT HOLDERS BE LIABLE FOR ANY CLAIM, DAMAGES OR OTHER\n",
        "# LIABILITY, WHETHER IN AN ACTION OF CONTRACT, TORT OR OTHERWISE, ARISING\n",
        "# FROM, OUT OF OR IN CONNECTION WITH THE SOFTWARE OR THE USE OR OTHER\n",
        "# DEALINGS IN THE SOFTWARE."
      ],
      "execution_count": null,
      "outputs": []
    },
    {
      "cell_type": "markdown",
      "metadata": {
        "id": "EIdT9iu_Z4Rb"
      },
      "source": [
        "# 자동차 연비 예측하기: 회귀"
      ]
    },
    {
      "cell_type": "markdown",
      "metadata": {
        "id": "YYwLLNVaaJU9"
      },
      "source": [
        "Note: 이 실습은 tensorflow에 있는 자료를 바탕으로 좀더 간단하게 변형하여 ML 기초학습을 할 수 있게 오픈 소스 개발자 대회에서 제공하는 온라인 강의를 수강하면서, 구글 코랩을 이용하여 실습 수업을 진행하면서 정리하고 메모한 자료입니다."
      ]
    },
    {
      "cell_type": "markdown",
      "metadata": {
        "id": "AHp3M9ZmrIxj"
      },
      "source": [
        "*회귀*(regression)는 가격이나 확률 같이 연속된 출력 값을 예측하는 것이 목적입니다. 이와는 달리 *분류*(classification)는 여러개의 클래스 중 하나의 클래스를 선택하는 것이 목적입니다(예를 들어, 사진에 사과 또는 오렌지가 포함되어 있을 때 어떤 과일인지 인식하는 것).\n",
        "\n",
        "이 노트북은 [Auto MPG](https://archive.ics.uci.edu/ml/datasets/auto+mpg) 데이터셋을 사용하여 1970년대 후반과 1980년대 초반의 자동차 연비를 예측하는 모델을 만듭니다. 이 기간에 출시된 자동차 정보를 모델에 제공하겠습니다. 이 정보에는 실린더 수, 배기량, 마력(horsepower), 공차 중량 같은 속성이 포함됩니다.\n",
        "\n",
        "이 예제는 `tf.keras` API를 사용합니다. 자세한 내용은 [케라스 가이드](https://www.tensorflow.org/guide/keras)를 참고하세요."
      ]
    },
    {
      "cell_type": "code",
      "metadata": {
        "id": "moB4tpEHxKB3",
        "colab": {
          "base_uri": "https://localhost:8080/"
        },
        "outputId": "0adbc3cb-d596-44be-8b7c-89a5399e5444"
      },
      "source": [
        "# 산점도 행렬을 그리기 위해 seaborn 패키지를 설치합니다\n",
        "!pip install seaborn"
      ],
      "execution_count": 1,
      "outputs": [
        {
          "output_type": "stream",
          "name": "stdout",
          "text": [
            "Requirement already satisfied: seaborn in /usr/local/lib/python3.7/dist-packages (0.11.1)\n",
            "Requirement already satisfied: pandas>=0.23 in /usr/local/lib/python3.7/dist-packages (from seaborn) (1.1.5)\n",
            "Requirement already satisfied: matplotlib>=2.2 in /usr/local/lib/python3.7/dist-packages (from seaborn) (3.2.2)\n",
            "Requirement already satisfied: numpy>=1.15 in /usr/local/lib/python3.7/dist-packages (from seaborn) (1.19.5)\n",
            "Requirement already satisfied: scipy>=1.0 in /usr/local/lib/python3.7/dist-packages (from seaborn) (1.4.1)\n",
            "Requirement already satisfied: cycler>=0.10 in /usr/local/lib/python3.7/dist-packages (from matplotlib>=2.2->seaborn) (0.10.0)\n",
            "Requirement already satisfied: python-dateutil>=2.1 in /usr/local/lib/python3.7/dist-packages (from matplotlib>=2.2->seaborn) (2.8.2)\n",
            "Requirement already satisfied: pyparsing!=2.0.4,!=2.1.2,!=2.1.6,>=2.0.1 in /usr/local/lib/python3.7/dist-packages (from matplotlib>=2.2->seaborn) (2.4.7)\n",
            "Requirement already satisfied: kiwisolver>=1.0.1 in /usr/local/lib/python3.7/dist-packages (from matplotlib>=2.2->seaborn) (1.3.1)\n",
            "Requirement already satisfied: six in /usr/local/lib/python3.7/dist-packages (from cycler>=0.10->matplotlib>=2.2->seaborn) (1.15.0)\n",
            "Requirement already satisfied: pytz>=2017.2 in /usr/local/lib/python3.7/dist-packages (from pandas>=0.23->seaborn) (2018.9)\n"
          ]
        }
      ]
    },
    {
      "cell_type": "code",
      "metadata": {
        "id": "1rRo8oNqZ-Rj",
        "colab": {
          "base_uri": "https://localhost:8080/"
        },
        "outputId": "a100c32d-f01a-4d5b-d796-baf39deef543"
      },
      "source": [
        "import pathlib\n",
        "\n",
        "import matplotlib.pyplot as plt\n",
        "import pandas as pd\n",
        "import seaborn as sns\n",
        "\n",
        "import tensorflow as tf\n",
        "from tensorflow import keras\n",
        "from tensorflow.keras import layers\n",
        "\n",
        "print(tf.__version__)"
      ],
      "execution_count": 2,
      "outputs": [
        {
          "output_type": "stream",
          "name": "stdout",
          "text": [
            "2.6.0\n"
          ]
        }
      ]
    },
    {
      "cell_type": "markdown",
      "metadata": {
        "id": "F_72b0LCNbjx"
      },
      "source": [
        "## Auto MPG 데이터셋\n",
        "\n",
        "이 데이터셋은 [UCI 머신 러닝 저장소](https://archive.ics.uci.edu/ml/)에서 다운로드할 수 있습니다."
      ]
    },
    {
      "cell_type": "markdown",
      "metadata": {
        "id": "gFh9ne3FZ-On"
      },
      "source": [
        "### 데이터 구하기\n",
        "먼저 데이터셋을 다운로드합니다.  \n",
        "csv 파일의 데이터 셋을 다운받음  \n",
        "파이썬에서는 데이터셋을 판다스로 읽어야함"
      ]
    },
    {
      "cell_type": "code",
      "metadata": {
        "id": "p9kxxgzvzlyz",
        "colab": {
          "base_uri": "https://localhost:8080/",
          "height": 88
        },
        "outputId": "12869484-5ef0-4b8a-a15d-e5a321c3968f"
      },
      "source": [
        "dataset_path = keras.utils.get_file(\"auto-mpg.data\", \"http://archive.ics.uci.edu/ml/machine-learning-databases/auto-mpg/auto-mpg.data\")\n",
        "dataset_path"
      ],
      "execution_count": 3,
      "outputs": [
        {
          "output_type": "stream",
          "name": "stdout",
          "text": [
            "Downloading data from http://archive.ics.uci.edu/ml/machine-learning-databases/auto-mpg/auto-mpg.data\n",
            "32768/30286 [================================] - 0s 2us/step\n",
            "40960/30286 [========================================] - 0s 1us/step\n"
          ]
        },
        {
          "output_type": "execute_result",
          "data": {
            "application/vnd.google.colaboratory.intrinsic+json": {
              "type": "string"
            },
            "text/plain": [
              "'/root/.keras/datasets/auto-mpg.data'"
            ]
          },
          "metadata": {},
          "execution_count": 3
        }
      ]
    },
    {
      "cell_type": "markdown",
      "metadata": {
        "id": "nslsRLh7Zss4"
      },
      "source": [
        "판다스를 사용하여 데이터를 읽습니다."
      ]
    },
    {
      "cell_type": "code",
      "metadata": {
        "id": "CiX2FI4gZtTt",
        "colab": {
          "base_uri": "https://localhost:8080/",
          "height": 204
        },
        "outputId": "e00b68b2-0511-4951-f768-a7268f979789"
      },
      "source": [
        "column_names = ['MPG','Cylinders','Displacement','Horsepower','Weight',\n",
        "                'Acceleration', 'Model Year', 'Origin']\n",
        "raw_dataset = pd.read_csv(dataset_path, names=column_names,\n",
        "                      na_values = \"?\", comment='\\t',\n",
        "                      sep=\" \", skipinitialspace=True)\n",
        "\n",
        "dataset = raw_dataset.copy()\n",
        "dataset.tail()"
      ],
      "execution_count": 4,
      "outputs": [
        {
          "output_type": "execute_result",
          "data": {
            "text/html": [
              "<div>\n",
              "<style scoped>\n",
              "    .dataframe tbody tr th:only-of-type {\n",
              "        vertical-align: middle;\n",
              "    }\n",
              "\n",
              "    .dataframe tbody tr th {\n",
              "        vertical-align: top;\n",
              "    }\n",
              "\n",
              "    .dataframe thead th {\n",
              "        text-align: right;\n",
              "    }\n",
              "</style>\n",
              "<table border=\"1\" class=\"dataframe\">\n",
              "  <thead>\n",
              "    <tr style=\"text-align: right;\">\n",
              "      <th></th>\n",
              "      <th>MPG</th>\n",
              "      <th>Cylinders</th>\n",
              "      <th>Displacement</th>\n",
              "      <th>Horsepower</th>\n",
              "      <th>Weight</th>\n",
              "      <th>Acceleration</th>\n",
              "      <th>Model Year</th>\n",
              "      <th>Origin</th>\n",
              "    </tr>\n",
              "  </thead>\n",
              "  <tbody>\n",
              "    <tr>\n",
              "      <th>393</th>\n",
              "      <td>27.0</td>\n",
              "      <td>4</td>\n",
              "      <td>140.0</td>\n",
              "      <td>86.0</td>\n",
              "      <td>2790.0</td>\n",
              "      <td>15.6</td>\n",
              "      <td>82</td>\n",
              "      <td>1</td>\n",
              "    </tr>\n",
              "    <tr>\n",
              "      <th>394</th>\n",
              "      <td>44.0</td>\n",
              "      <td>4</td>\n",
              "      <td>97.0</td>\n",
              "      <td>52.0</td>\n",
              "      <td>2130.0</td>\n",
              "      <td>24.6</td>\n",
              "      <td>82</td>\n",
              "      <td>2</td>\n",
              "    </tr>\n",
              "    <tr>\n",
              "      <th>395</th>\n",
              "      <td>32.0</td>\n",
              "      <td>4</td>\n",
              "      <td>135.0</td>\n",
              "      <td>84.0</td>\n",
              "      <td>2295.0</td>\n",
              "      <td>11.6</td>\n",
              "      <td>82</td>\n",
              "      <td>1</td>\n",
              "    </tr>\n",
              "    <tr>\n",
              "      <th>396</th>\n",
              "      <td>28.0</td>\n",
              "      <td>4</td>\n",
              "      <td>120.0</td>\n",
              "      <td>79.0</td>\n",
              "      <td>2625.0</td>\n",
              "      <td>18.6</td>\n",
              "      <td>82</td>\n",
              "      <td>1</td>\n",
              "    </tr>\n",
              "    <tr>\n",
              "      <th>397</th>\n",
              "      <td>31.0</td>\n",
              "      <td>4</td>\n",
              "      <td>119.0</td>\n",
              "      <td>82.0</td>\n",
              "      <td>2720.0</td>\n",
              "      <td>19.4</td>\n",
              "      <td>82</td>\n",
              "      <td>1</td>\n",
              "    </tr>\n",
              "  </tbody>\n",
              "</table>\n",
              "</div>"
            ],
            "text/plain": [
              "      MPG  Cylinders  Displacement  ...  Acceleration  Model Year  Origin\n",
              "393  27.0          4         140.0  ...          15.6          82       1\n",
              "394  44.0          4          97.0  ...          24.6          82       2\n",
              "395  32.0          4         135.0  ...          11.6          82       1\n",
              "396  28.0          4         120.0  ...          18.6          82       1\n",
              "397  31.0          4         119.0  ...          19.4          82       1\n",
              "\n",
              "[5 rows x 8 columns]"
            ]
          },
          "metadata": {},
          "execution_count": 4
        }
      ]
    },
    {
      "cell_type": "code",
      "metadata": {
        "id": "LOW-M60tOlcA",
        "colab": {
          "base_uri": "https://localhost:8080/",
          "height": 204
        },
        "outputId": "51161f3e-5504-4319-d9c5-c5e68f9be9bb"
      },
      "source": [
        "dataset.head() # origin은 나라를 숫자로 표현"
      ],
      "execution_count": 5,
      "outputs": [
        {
          "output_type": "execute_result",
          "data": {
            "text/html": [
              "<div>\n",
              "<style scoped>\n",
              "    .dataframe tbody tr th:only-of-type {\n",
              "        vertical-align: middle;\n",
              "    }\n",
              "\n",
              "    .dataframe tbody tr th {\n",
              "        vertical-align: top;\n",
              "    }\n",
              "\n",
              "    .dataframe thead th {\n",
              "        text-align: right;\n",
              "    }\n",
              "</style>\n",
              "<table border=\"1\" class=\"dataframe\">\n",
              "  <thead>\n",
              "    <tr style=\"text-align: right;\">\n",
              "      <th></th>\n",
              "      <th>MPG</th>\n",
              "      <th>Cylinders</th>\n",
              "      <th>Displacement</th>\n",
              "      <th>Horsepower</th>\n",
              "      <th>Weight</th>\n",
              "      <th>Acceleration</th>\n",
              "      <th>Model Year</th>\n",
              "      <th>Origin</th>\n",
              "    </tr>\n",
              "  </thead>\n",
              "  <tbody>\n",
              "    <tr>\n",
              "      <th>0</th>\n",
              "      <td>18.0</td>\n",
              "      <td>8</td>\n",
              "      <td>307.0</td>\n",
              "      <td>130.0</td>\n",
              "      <td>3504.0</td>\n",
              "      <td>12.0</td>\n",
              "      <td>70</td>\n",
              "      <td>1</td>\n",
              "    </tr>\n",
              "    <tr>\n",
              "      <th>1</th>\n",
              "      <td>15.0</td>\n",
              "      <td>8</td>\n",
              "      <td>350.0</td>\n",
              "      <td>165.0</td>\n",
              "      <td>3693.0</td>\n",
              "      <td>11.5</td>\n",
              "      <td>70</td>\n",
              "      <td>1</td>\n",
              "    </tr>\n",
              "    <tr>\n",
              "      <th>2</th>\n",
              "      <td>18.0</td>\n",
              "      <td>8</td>\n",
              "      <td>318.0</td>\n",
              "      <td>150.0</td>\n",
              "      <td>3436.0</td>\n",
              "      <td>11.0</td>\n",
              "      <td>70</td>\n",
              "      <td>1</td>\n",
              "    </tr>\n",
              "    <tr>\n",
              "      <th>3</th>\n",
              "      <td>16.0</td>\n",
              "      <td>8</td>\n",
              "      <td>304.0</td>\n",
              "      <td>150.0</td>\n",
              "      <td>3433.0</td>\n",
              "      <td>12.0</td>\n",
              "      <td>70</td>\n",
              "      <td>1</td>\n",
              "    </tr>\n",
              "    <tr>\n",
              "      <th>4</th>\n",
              "      <td>17.0</td>\n",
              "      <td>8</td>\n",
              "      <td>302.0</td>\n",
              "      <td>140.0</td>\n",
              "      <td>3449.0</td>\n",
              "      <td>10.5</td>\n",
              "      <td>70</td>\n",
              "      <td>1</td>\n",
              "    </tr>\n",
              "  </tbody>\n",
              "</table>\n",
              "</div>"
            ],
            "text/plain": [
              "    MPG  Cylinders  Displacement  ...  Acceleration  Model Year  Origin\n",
              "0  18.0          8         307.0  ...          12.0          70       1\n",
              "1  15.0          8         350.0  ...          11.5          70       1\n",
              "2  18.0          8         318.0  ...          11.0          70       1\n",
              "3  16.0          8         304.0  ...          12.0          70       1\n",
              "4  17.0          8         302.0  ...          10.5          70       1\n",
              "\n",
              "[5 rows x 8 columns]"
            ]
          },
          "metadata": {},
          "execution_count": 5
        }
      ]
    },
    {
      "cell_type": "code",
      "metadata": {
        "id": "B6DruPL9OosI",
        "colab": {
          "base_uri": "https://localhost:8080/"
        },
        "outputId": "81e6d00f-afb7-4eac-c317-621cb22df537"
      },
      "source": [
        "len(dataset) # 398개의 데이터"
      ],
      "execution_count": 6,
      "outputs": [
        {
          "output_type": "execute_result",
          "data": {
            "text/plain": [
              "398"
            ]
          },
          "metadata": {},
          "execution_count": 6
        }
      ]
    },
    {
      "cell_type": "markdown",
      "metadata": {
        "id": "3MWuJTKEDM-f"
      },
      "source": [
        "### 데이터 정제하기\n",
        "\n",
        "이 데이터셋은 일부 데이터가 누락되어 있습니다."
      ]
    },
    {
      "cell_type": "code",
      "metadata": {
        "id": "JEJHhN65a2VV",
        "colab": {
          "base_uri": "https://localhost:8080/"
        },
        "outputId": "7f574955-cb50-4401-bded-42c90afe66f7"
      },
      "source": [
        "dataset.isna().sum()"
      ],
      "execution_count": 7,
      "outputs": [
        {
          "output_type": "execute_result",
          "data": {
            "text/plain": [
              "MPG             0\n",
              "Cylinders       0\n",
              "Displacement    0\n",
              "Horsepower      6\n",
              "Weight          0\n",
              "Acceleration    0\n",
              "Model Year      0\n",
              "Origin          0\n",
              "dtype: int64"
            ]
          },
          "metadata": {},
          "execution_count": 7
        }
      ]
    },
    {
      "cell_type": "markdown",
      "metadata": {
        "id": "9UPN0KBHa_WI"
      },
      "source": [
        "문제를 간단하게 만들기 위해서 누락된 행을 삭제하겠습니다."
      ]
    },
    {
      "cell_type": "code",
      "metadata": {
        "id": "4ZUDosChC1UN"
      },
      "source": [
        "dataset = dataset.dropna()"
      ],
      "execution_count": 8,
      "outputs": []
    },
    {
      "cell_type": "code",
      "metadata": {
        "id": "JLfCKS6TO1gt",
        "colab": {
          "base_uri": "https://localhost:8080/"
        },
        "outputId": "6c7fdb94-4c41-4297-f70c-f79be5cd1e06"
      },
      "source": [
        "len(dataset) # 누락된 6개가 제거가 됨"
      ],
      "execution_count": 9,
      "outputs": [
        {
          "output_type": "execute_result",
          "data": {
            "text/plain": [
              "392"
            ]
          },
          "metadata": {},
          "execution_count": 9
        }
      ]
    },
    {
      "cell_type": "markdown",
      "metadata": {
        "id": "8XKitwaH4v8h"
      },
      "source": [
        "`\"Origin\"` 열은 수치형이 아니고 범주형이므로 원-핫 인코딩(one-hot encoding)으로 변환하겠습니다:"
      ]
    },
    {
      "cell_type": "code",
      "metadata": {
        "id": "gWNTD2QjBWFJ"
      },
      "source": [
        "origin = dataset.pop('Origin')"
      ],
      "execution_count": 10,
      "outputs": []
    },
    {
      "cell_type": "code",
      "metadata": {
        "id": "ulXz4J7PAUzk",
        "colab": {
          "base_uri": "https://localhost:8080/",
          "height": 204
        },
        "outputId": "be50ee5c-beb9-4760-bc6b-cd88aca7a2f4"
      },
      "source": [
        "dataset['USA'] = (origin == 1)*1.0\n",
        "dataset['Europe'] = (origin == 2)*1.0\n",
        "dataset['Japan'] = (origin == 3)*1.0\n",
        "dataset.tail()"
      ],
      "execution_count": 11,
      "outputs": [
        {
          "output_type": "execute_result",
          "data": {
            "text/html": [
              "<div>\n",
              "<style scoped>\n",
              "    .dataframe tbody tr th:only-of-type {\n",
              "        vertical-align: middle;\n",
              "    }\n",
              "\n",
              "    .dataframe tbody tr th {\n",
              "        vertical-align: top;\n",
              "    }\n",
              "\n",
              "    .dataframe thead th {\n",
              "        text-align: right;\n",
              "    }\n",
              "</style>\n",
              "<table border=\"1\" class=\"dataframe\">\n",
              "  <thead>\n",
              "    <tr style=\"text-align: right;\">\n",
              "      <th></th>\n",
              "      <th>MPG</th>\n",
              "      <th>Cylinders</th>\n",
              "      <th>Displacement</th>\n",
              "      <th>Horsepower</th>\n",
              "      <th>Weight</th>\n",
              "      <th>Acceleration</th>\n",
              "      <th>Model Year</th>\n",
              "      <th>USA</th>\n",
              "      <th>Europe</th>\n",
              "      <th>Japan</th>\n",
              "    </tr>\n",
              "  </thead>\n",
              "  <tbody>\n",
              "    <tr>\n",
              "      <th>393</th>\n",
              "      <td>27.0</td>\n",
              "      <td>4</td>\n",
              "      <td>140.0</td>\n",
              "      <td>86.0</td>\n",
              "      <td>2790.0</td>\n",
              "      <td>15.6</td>\n",
              "      <td>82</td>\n",
              "      <td>1.0</td>\n",
              "      <td>0.0</td>\n",
              "      <td>0.0</td>\n",
              "    </tr>\n",
              "    <tr>\n",
              "      <th>394</th>\n",
              "      <td>44.0</td>\n",
              "      <td>4</td>\n",
              "      <td>97.0</td>\n",
              "      <td>52.0</td>\n",
              "      <td>2130.0</td>\n",
              "      <td>24.6</td>\n",
              "      <td>82</td>\n",
              "      <td>0.0</td>\n",
              "      <td>1.0</td>\n",
              "      <td>0.0</td>\n",
              "    </tr>\n",
              "    <tr>\n",
              "      <th>395</th>\n",
              "      <td>32.0</td>\n",
              "      <td>4</td>\n",
              "      <td>135.0</td>\n",
              "      <td>84.0</td>\n",
              "      <td>2295.0</td>\n",
              "      <td>11.6</td>\n",
              "      <td>82</td>\n",
              "      <td>1.0</td>\n",
              "      <td>0.0</td>\n",
              "      <td>0.0</td>\n",
              "    </tr>\n",
              "    <tr>\n",
              "      <th>396</th>\n",
              "      <td>28.0</td>\n",
              "      <td>4</td>\n",
              "      <td>120.0</td>\n",
              "      <td>79.0</td>\n",
              "      <td>2625.0</td>\n",
              "      <td>18.6</td>\n",
              "      <td>82</td>\n",
              "      <td>1.0</td>\n",
              "      <td>0.0</td>\n",
              "      <td>0.0</td>\n",
              "    </tr>\n",
              "    <tr>\n",
              "      <th>397</th>\n",
              "      <td>31.0</td>\n",
              "      <td>4</td>\n",
              "      <td>119.0</td>\n",
              "      <td>82.0</td>\n",
              "      <td>2720.0</td>\n",
              "      <td>19.4</td>\n",
              "      <td>82</td>\n",
              "      <td>1.0</td>\n",
              "      <td>0.0</td>\n",
              "      <td>0.0</td>\n",
              "    </tr>\n",
              "  </tbody>\n",
              "</table>\n",
              "</div>"
            ],
            "text/plain": [
              "      MPG  Cylinders  Displacement  Horsepower  ...  Model Year  USA  Europe  Japan\n",
              "393  27.0          4         140.0        86.0  ...          82  1.0     0.0    0.0\n",
              "394  44.0          4          97.0        52.0  ...          82  0.0     1.0    0.0\n",
              "395  32.0          4         135.0        84.0  ...          82  1.0     0.0    0.0\n",
              "396  28.0          4         120.0        79.0  ...          82  1.0     0.0    0.0\n",
              "397  31.0          4         119.0        82.0  ...          82  1.0     0.0    0.0\n",
              "\n",
              "[5 rows x 10 columns]"
            ]
          },
          "metadata": {},
          "execution_count": 11
        }
      ]
    },
    {
      "cell_type": "markdown",
      "metadata": {
        "id": "Cuym4yvk76vU"
      },
      "source": [
        "### 데이터셋을 훈련 세트와 테스트 세트로 분할하기\n",
        "\n",
        "이제 데이터를 훈련 세트와 테스트 세트로 분할합니다.\n",
        "\n",
        "테스트 세트는 모델을 최종적으로 평가할 때 사용합니다."
      ]
    },
    {
      "cell_type": "code",
      "metadata": {
        "id": "qn-IGhUE7_1H"
      },
      "source": [
        "train_dataset = dataset.sample(frac=0.8,random_state=0)  # 80%는 트레이닝에 쓰겠다\n",
        "test_dataset = dataset.drop(train_dataset.index)"
      ],
      "execution_count": 12,
      "outputs": []
    },
    {
      "cell_type": "code",
      "metadata": {
        "id": "2oagxkN6Pjzu",
        "colab": {
          "base_uri": "https://localhost:8080/"
        },
        "outputId": "b5a078ce-ee47-408b-93b7-a33b2c5dcd46"
      },
      "source": [
        "len(train_dataset), len(test_dataset)"
      ],
      "execution_count": 13,
      "outputs": [
        {
          "output_type": "execute_result",
          "data": {
            "text/plain": [
              "(314, 78)"
            ]
          },
          "metadata": {},
          "execution_count": 13
        }
      ]
    },
    {
      "cell_type": "markdown",
      "metadata": {
        "id": "J4ubs136WLNp"
      },
      "source": [
        "### 데이터 조사하기 (정규화 화기전 작업)\n",
        "\n",
        "훈련 세트에서 몇 개의 열을 선택해 산점도 행렬을 만들어 살펴 보겠습니다."
      ]
    },
    {
      "cell_type": "code",
      "metadata": {
        "id": "oRKO_x8gWKv-",
        "colab": {
          "base_uri": "https://localhost:8080/",
          "height": 744
        },
        "outputId": "8bb71da9-c262-43e2-f62e-b6f29f3faec1"
      },
      "source": [
        "sns.pairplot(train_dataset[[\"MPG\", \"Cylinders\", \"Displacement\", \"Weight\"]], diag_kind=\"kde\")"
      ],
      "execution_count": 14,
      "outputs": [
        {
          "output_type": "execute_result",
          "data": {
            "text/plain": [
              "<seaborn.axisgrid.PairGrid at 0x7f78b9b187d0>"
            ]
          },
          "metadata": {},
          "execution_count": 14
        },
        {
          "output_type": "display_data",
          "data": {
            "image/png": "[encoded data removed]",
            "text/plain": [
              "<Figure size 720x720 with 20 Axes>"
            ]
          },
          "metadata": {
            "needs_background": "light"
          }
        }
      ]
    },
    {
      "cell_type": "markdown",
      "metadata": {
        "id": "gavKO_6DWRMP"
      },
      "source": [
        "전반적인 통계도 확인해 보죠:"
      ]
    },
    {
      "cell_type": "code",
      "metadata": {
        "id": "yi2FzC3T21jR",
        "colab": {
          "base_uri": "https://localhost:8080/",
          "height": 328
        },
        "outputId": "f88f05c9-4c16-48bd-c129-a02157dae0c7"
      },
      "source": [
        "train_stats = train_dataset.describe()  # describe()함수를 통해서 평균값과 표준편차를 확인할 수 있음\n",
        "train_stats.pop(\"MPG\")\n",
        "train_stats = train_stats.transpose()\n",
        "train_stats"
      ],
      "execution_count": 15,
      "outputs": [
        {
          "output_type": "execute_result",
          "data": {
            "text/html": [
              "<div>\n",
              "<style scoped>\n",
              "    .dataframe tbody tr th:only-of-type {\n",
              "        vertical-align: middle;\n",
              "    }\n",
              "\n",
              "    .dataframe tbody tr th {\n",
              "        vertical-align: top;\n",
              "    }\n",
              "\n",
              "    .dataframe thead th {\n",
              "        text-align: right;\n",
              "    }\n",
              "</style>\n",
              "<table border=\"1\" class=\"dataframe\">\n",
              "  <thead>\n",
              "    <tr style=\"text-align: right;\">\n",
              "      <th></th>\n",
              "      <th>count</th>\n",
              "      <th>mean</th>\n",
              "      <th>std</th>\n",
              "      <th>min</th>\n",
              "      <th>25%</th>\n",
              "      <th>50%</th>\n",
              "      <th>75%</th>\n",
              "      <th>max</th>\n",
              "    </tr>\n",
              "  </thead>\n",
              "  <tbody>\n",
              "    <tr>\n",
              "      <th>Cylinders</th>\n",
              "      <td>314.0</td>\n",
              "      <td>5.477707</td>\n",
              "      <td>1.699788</td>\n",
              "      <td>3.0</td>\n",
              "      <td>4.00</td>\n",
              "      <td>4.0</td>\n",
              "      <td>8.00</td>\n",
              "      <td>8.0</td>\n",
              "    </tr>\n",
              "    <tr>\n",
              "      <th>Displacement</th>\n",
              "      <td>314.0</td>\n",
              "      <td>195.318471</td>\n",
              "      <td>104.331589</td>\n",
              "      <td>68.0</td>\n",
              "      <td>105.50</td>\n",
              "      <td>151.0</td>\n",
              "      <td>265.75</td>\n",
              "      <td>455.0</td>\n",
              "    </tr>\n",
              "    <tr>\n",
              "      <th>Horsepower</th>\n",
              "      <td>314.0</td>\n",
              "      <td>104.869427</td>\n",
              "      <td>38.096214</td>\n",
              "      <td>46.0</td>\n",
              "      <td>76.25</td>\n",
              "      <td>94.5</td>\n",
              "      <td>128.00</td>\n",
              "      <td>225.0</td>\n",
              "    </tr>\n",
              "    <tr>\n",
              "      <th>Weight</th>\n",
              "      <td>314.0</td>\n",
              "      <td>2990.251592</td>\n",
              "      <td>843.898596</td>\n",
              "      <td>1649.0</td>\n",
              "      <td>2256.50</td>\n",
              "      <td>2822.5</td>\n",
              "      <td>3608.00</td>\n",
              "      <td>5140.0</td>\n",
              "    </tr>\n",
              "    <tr>\n",
              "      <th>Acceleration</th>\n",
              "      <td>314.0</td>\n",
              "      <td>15.559236</td>\n",
              "      <td>2.789230</td>\n",
              "      <td>8.0</td>\n",
              "      <td>13.80</td>\n",
              "      <td>15.5</td>\n",
              "      <td>17.20</td>\n",
              "      <td>24.8</td>\n",
              "    </tr>\n",
              "    <tr>\n",
              "      <th>Model Year</th>\n",
              "      <td>314.0</td>\n",
              "      <td>75.898089</td>\n",
              "      <td>3.675642</td>\n",
              "      <td>70.0</td>\n",
              "      <td>73.00</td>\n",
              "      <td>76.0</td>\n",
              "      <td>79.00</td>\n",
              "      <td>82.0</td>\n",
              "    </tr>\n",
              "    <tr>\n",
              "      <th>USA</th>\n",
              "      <td>314.0</td>\n",
              "      <td>0.624204</td>\n",
              "      <td>0.485101</td>\n",
              "      <td>0.0</td>\n",
              "      <td>0.00</td>\n",
              "      <td>1.0</td>\n",
              "      <td>1.00</td>\n",
              "      <td>1.0</td>\n",
              "    </tr>\n",
              "    <tr>\n",
              "      <th>Europe</th>\n",
              "      <td>314.0</td>\n",
              "      <td>0.178344</td>\n",
              "      <td>0.383413</td>\n",
              "      <td>0.0</td>\n",
              "      <td>0.00</td>\n",
              "      <td>0.0</td>\n",
              "      <td>0.00</td>\n",
              "      <td>1.0</td>\n",
              "    </tr>\n",
              "    <tr>\n",
              "      <th>Japan</th>\n",
              "      <td>314.0</td>\n",
              "      <td>0.197452</td>\n",
              "      <td>0.398712</td>\n",
              "      <td>0.0</td>\n",
              "      <td>0.00</td>\n",
              "      <td>0.0</td>\n",
              "      <td>0.00</td>\n",
              "      <td>1.0</td>\n",
              "    </tr>\n",
              "  </tbody>\n",
              "</table>\n",
              "</div>"
            ],
            "text/plain": [
              "              count         mean         std  ...     50%      75%     max\n",
              "Cylinders     314.0     5.477707    1.699788  ...     4.0     8.00     8.0\n",
              "Displacement  314.0   195.318471  104.331589  ...   151.0   265.75   455.0\n",
              "Horsepower    314.0   104.869427   38.096214  ...    94.5   128.00   225.0\n",
              "Weight        314.0  2990.251592  843.898596  ...  2822.5  3608.00  5140.0\n",
              "Acceleration  314.0    15.559236    2.789230  ...    15.5    17.20    24.8\n",
              "Model Year    314.0    75.898089    3.675642  ...    76.0    79.00    82.0\n",
              "USA           314.0     0.624204    0.485101  ...     1.0     1.00     1.0\n",
              "Europe        314.0     0.178344    0.383413  ...     0.0     0.00     1.0\n",
              "Japan         314.0     0.197452    0.398712  ...     0.0     0.00     1.0\n",
              "\n",
              "[9 rows x 8 columns]"
            ]
          },
          "metadata": {},
          "execution_count": 15
        }
      ]
    },
    {
      "cell_type": "markdown",
      "metadata": {
        "id": "Db7Auq1yXUvh"
      },
      "source": [
        "### 특성과 레이블 분리하기\n",
        "\n",
        "특성에서 타깃 값 또는 \"레이블\"을 분리합니다. 이 레이블을 예측하기 위해 모델을 훈련시킬 것입니다."
      ]
    },
    {
      "cell_type": "code",
      "metadata": {
        "id": "t2sluJdCW7jN"
      },
      "source": [
        "train_labels = train_dataset.pop('MPG') # mpg는 맞추어야 하는 값이므로 정규화를 하지 않음(빼줌) \n",
        "test_labels = test_dataset.pop('MPG') # y값 으로 저장해줌"
      ],
      "execution_count": 16,
      "outputs": []
    },
    {
      "cell_type": "markdown",
      "metadata": {
        "id": "mRklxK5s388r"
      },
      "source": [
        "### 데이터 정규화\n",
        "\n",
        "위 `train_stats` 통계를 다시 살펴보고 각 특성의 범위가 얼마나 다른지 확인해 보죠."
      ]
    },
    {
      "cell_type": "markdown",
      "metadata": {
        "id": "-ywmerQ6dSox"
      },
      "source": [
        "특성의 스케일과 범위가 다르면 정규화(normalization)하는 것이 권장됩니다. 특성을 정규화하지 않아도 모델이 *수렴할 수 있지만*, 훈련시키기 어렵고 입력 단위에 의존적인 모델이 만들어집니다.\n",
        "\n",
        "노트: 의도적으로 훈련 세트만 사용하여 통계치를 생성했습니다. 이 통계는 테스트 세트를 정규화할 때에도 사용됩니다. 이는 테스트 세트를 모델이 훈련에 사용했던 것과 동일한 분포로 투영하기 위해서입니다."
      ]
    },
    {
      "cell_type": "code",
      "metadata": {
        "id": "JlC5ooJrgjQF"
      },
      "source": [
        "def norm(x):\n",
        "  return (x - train_stats['mean']) / train_stats['std']   # 평균값을 뺀것을 표준편차로 나눔(정규화)\n",
        "normed_train_data = norm(train_dataset)\n",
        "normed_test_data = norm(test_dataset)"
      ],
      "execution_count": 17,
      "outputs": []
    },
    {
      "cell_type": "code",
      "metadata": {
        "id": "FUUmqDsoQfak",
        "colab": {
          "base_uri": "https://localhost:8080/",
          "height": 204
        },
        "outputId": "230e7b7c-7b3e-454f-ec5d-de51163f7586"
      },
      "source": [
        "normed_train_data.head()"
      ],
      "execution_count": 18,
      "outputs": [
        {
          "output_type": "execute_result",
          "data": {
            "text/html": [
              "<div>\n",
              "<style scoped>\n",
              "    .dataframe tbody tr th:only-of-type {\n",
              "        vertical-align: middle;\n",
              "    }\n",
              "\n",
              "    .dataframe tbody tr th {\n",
              "        vertical-align: top;\n",
              "    }\n",
              "\n",
              "    .dataframe thead th {\n",
              "        text-align: right;\n",
              "    }\n",
              "</style>\n",
              "<table border=\"1\" class=\"dataframe\">\n",
              "  <thead>\n",
              "    <tr style=\"text-align: right;\">\n",
              "      <th></th>\n",
              "      <th>Cylinders</th>\n",
              "      <th>Displacement</th>\n",
              "      <th>Horsepower</th>\n",
              "      <th>Weight</th>\n",
              "      <th>Acceleration</th>\n",
              "      <th>Model Year</th>\n",
              "      <th>USA</th>\n",
              "      <th>Europe</th>\n",
              "      <th>Japan</th>\n",
              "    </tr>\n",
              "  </thead>\n",
              "  <tbody>\n",
              "    <tr>\n",
              "      <th>146</th>\n",
              "      <td>-0.869348</td>\n",
              "      <td>-1.009459</td>\n",
              "      <td>-0.784052</td>\n",
              "      <td>-1.025303</td>\n",
              "      <td>-0.379759</td>\n",
              "      <td>-0.516397</td>\n",
              "      <td>0.774676</td>\n",
              "      <td>-0.465148</td>\n",
              "      <td>-0.495225</td>\n",
              "    </tr>\n",
              "    <tr>\n",
              "      <th>282</th>\n",
              "      <td>-0.869348</td>\n",
              "      <td>-0.530218</td>\n",
              "      <td>-0.442811</td>\n",
              "      <td>-0.118796</td>\n",
              "      <td>0.624102</td>\n",
              "      <td>0.843910</td>\n",
              "      <td>0.774676</td>\n",
              "      <td>-0.465148</td>\n",
              "      <td>-0.495225</td>\n",
              "    </tr>\n",
              "    <tr>\n",
              "      <th>69</th>\n",
              "      <td>1.483887</td>\n",
              "      <td>1.482595</td>\n",
              "      <td>1.447140</td>\n",
              "      <td>1.736877</td>\n",
              "      <td>-0.738281</td>\n",
              "      <td>-1.060519</td>\n",
              "      <td>0.774676</td>\n",
              "      <td>-0.465148</td>\n",
              "      <td>-0.495225</td>\n",
              "    </tr>\n",
              "    <tr>\n",
              "      <th>378</th>\n",
              "      <td>-0.869348</td>\n",
              "      <td>-0.865687</td>\n",
              "      <td>-1.099044</td>\n",
              "      <td>-1.025303</td>\n",
              "      <td>-0.308055</td>\n",
              "      <td>1.660094</td>\n",
              "      <td>0.774676</td>\n",
              "      <td>-0.465148</td>\n",
              "      <td>-0.495225</td>\n",
              "    </tr>\n",
              "    <tr>\n",
              "      <th>331</th>\n",
              "      <td>-0.869348</td>\n",
              "      <td>-0.942365</td>\n",
              "      <td>-0.994047</td>\n",
              "      <td>-1.001603</td>\n",
              "      <td>0.875068</td>\n",
              "      <td>1.115971</td>\n",
              "      <td>-1.286751</td>\n",
              "      <td>-0.465148</td>\n",
              "      <td>2.012852</td>\n",
              "    </tr>\n",
              "  </tbody>\n",
              "</table>\n",
              "</div>"
            ],
            "text/plain": [
              "     Cylinders  Displacement  Horsepower  ...       USA    Europe     Japan\n",
              "146  -0.869348     -1.009459   -0.784052  ...  0.774676 -0.465148 -0.495225\n",
              "282  -0.869348     -0.530218   -0.442811  ...  0.774676 -0.465148 -0.495225\n",
              "69    1.483887      1.482595    1.447140  ...  0.774676 -0.465148 -0.495225\n",
              "378  -0.869348     -0.865687   -1.099044  ...  0.774676 -0.465148 -0.495225\n",
              "331  -0.869348     -0.942365   -0.994047  ... -1.286751 -0.465148  2.012852\n",
              "\n",
              "[5 rows x 9 columns]"
            ]
          },
          "metadata": {},
          "execution_count": 18
        }
      ]
    },
    {
      "cell_type": "code",
      "metadata": {
        "id": "p-tp0Mz6Q14b",
        "colab": {
          "base_uri": "https://localhost:8080/"
        },
        "outputId": "d5486178-5cb9-41bd-c356-26ed660d3ee9"
      },
      "source": [
        "normed_train_data.shape"
      ],
      "execution_count": 19,
      "outputs": [
        {
          "output_type": "execute_result",
          "data": {
            "text/plain": [
              "(314, 9)"
            ]
          },
          "metadata": {},
          "execution_count": 19
        }
      ]
    },
    {
      "cell_type": "markdown",
      "metadata": {
        "id": "BuiClDk45eS4"
      },
      "source": [
        "정규화된 데이터를 사용하여 모델을 훈련합니다.\n",
        "\n",
        "주의: 여기에서 입력 데이터를 정규화하기 위해 사용한 통계치(평균과 표준편차)는 원-핫 인코딩과 마찬가지로 모델에 주입되는 모든 데이터에 적용되어야 합니다. 여기에는 테스트 세트는 물론 모델이 실전에 투입되어 얻은 라이브 데이터도 포함됩니다."
      ]
    },
    {
      "cell_type": "markdown",
      "metadata": {
        "id": "SmjdzxKzEu1-"
      },
      "source": [
        "## 모델"
      ]
    },
    {
      "cell_type": "markdown",
      "metadata": {
        "id": "6SWtkIjhrZwa"
      },
      "source": [
        "### 모델 만들기\n",
        "\n",
        "모델을 구성해 보죠. 여기에서는 두 개의 완전 연결(densely connected) 은닉층으로 `Sequential` 모델을 만들겠습니다. 출력 층은 하나의 연속적인 값을 반환합니다. 나중에 두 번째 모델을 만들기 쉽도록 `build_model` 함수로 모델 구성 단계를 감싸겠습니다."
      ]
    },
    {
      "cell_type": "code",
      "metadata": {
        "id": "B4rom8TBRN0l"
      },
      "source": [
        "# 행렬 정의 부분\n",
        "inputs = keras.Input(shape=(normed_train_data.shape[1],))\n",
        "h = layers.Dense(64)(inputs)  # 6짜리 피쳐가 들어가고 나는 64짜리로 만듬 (숫자는 암꺼나 해도됨)\n",
        "h = layers.Activation('relu')(h)  # 활성함수 추가!!!\n",
        "h = layers.Dense(32, activation='relu')(h) # 활성함수 추가!!\n",
        "\n",
        "outputs = layers.Dense(1)(h)  # output y를 1로"
      ],
      "execution_count": 21,
      "outputs": []
    },
    {
      "cell_type": "code",
      "metadata": {
        "id": "2rxsK3RXRh6w"
      },
      "source": [
        "model = keras.Model(inputs=inputs, outputs=outputs)\n"
      ],
      "execution_count": 22,
      "outputs": []
    },
    {
      "cell_type": "markdown",
      "metadata": {
        "id": "C27dNM5jTXtV"
      },
      "source": [
        "# 선형 회귀 : y = x * w + b\n",
        "y값을 오차를 줄여나가면서 학습  \n",
        "모델의 예측값과 실제 y값의 차이를 점점 줄여나가는 머신러닝의 원리  \n",
        "차이를 어떻게 정의할 것인가를 케라스에게 얘기해줘야함  \n",
        "여기서는 mean squared error를 사용했음  \n",
        "optimizer는 기본적으로 rmsprop이나 adam을 주로 사용함"
      ]
    },
    {
      "cell_type": "code",
      "metadata": {
        "id": "VJ76tG09SELv"
      },
      "source": [
        "model.compile(loss='mse', optimizer=tf.keras.optimizers.RMSprop(0.001))"
      ],
      "execution_count": 23,
      "outputs": []
    },
    {
      "cell_type": "markdown",
      "metadata": {
        "id": "Sj49Og4YGULr"
      },
      "source": [
        "### 모델 확인\n",
        "\n",
        "`.summary` 메서드를 사용해 모델에 대한 간단한 정보를 출력합니다."
      ]
    },
    {
      "cell_type": "code",
      "metadata": {
        "id": "ReAD0n6MsFK-",
        "colab": {
          "base_uri": "https://localhost:8080/"
        },
        "outputId": "d6232b40-4fa8-46b5-ff9b-bccf7848a3b3"
      },
      "source": [
        "model.summary()  # 시각화 API , input과 중간(히든레이어), 마지막 아웃풋 레이어를 확인할 수 있음"
      ],
      "execution_count": 24,
      "outputs": [
        {
          "output_type": "stream",
          "name": "stdout",
          "text": [
            "Model: \"model\"\n",
            "_________________________________________________________________\n",
            "Layer (type)                 Output Shape              Param #   \n",
            "=================================================================\n",
            "input_2 (InputLayer)         [(None, 9)]               0         \n",
            "_________________________________________________________________\n",
            "dense_1 (Dense)              (None, 64)                640       \n",
            "_________________________________________________________________\n",
            "activation (Activation)      (None, 64)                0         \n",
            "_________________________________________________________________\n",
            "dense_2 (Dense)              (None, 32)                2080      \n",
            "_________________________________________________________________\n",
            "dense_3 (Dense)              (None, 1)                 33        \n",
            "=================================================================\n",
            "Total params: 2,753\n",
            "Trainable params: 2,753\n",
            "Non-trainable params: 0\n",
            "_________________________________________________________________\n"
          ]
        }
      ]
    },
    {
      "cell_type": "code",
      "metadata": {
        "id": "duQ8oTlJSasN",
        "colab": {
          "base_uri": "https://localhost:8080/",
          "height": 533
        },
        "outputId": "98a68db1-3734-4314-9ef3-7889fd489a3d"
      },
      "source": [
        "keras.utils.plot_model(model, \"my_first_model_with_shape_info.png\", show_shapes=True) # 위보다 layer를 좀더 시각화해서 표현"
      ],
      "execution_count": 25,
      "outputs": [
        {
          "output_type": "execute_result",
          "data": {
            "image/png": "[encoded data removed]",
            "text/plain": [
              "<IPython.core.display.Image object>"
            ]
          },
          "metadata": {},
          "execution_count": 25
        }
      ]
    },
    {
      "cell_type": "markdown",
      "metadata": {
        "id": "Vt6W50qGsJAL"
      },
      "source": [
        "모델을 한번 실행해 보죠. 훈련 세트에서 `5` 샘플을 하나의 배치로 만들어 `model.predict` 메서드를 호출해 보겠습니다."
      ]
    },
    {
      "cell_type": "code",
      "metadata": {
        "id": "hJZrSSj9UEUW",
        "colab": {
          "base_uri": "https://localhost:8080/"
        },
        "outputId": "0df15f3f-13a1-4d24-8916-41b16bcb3407"
      },
      "source": [
        "normed_train_data[:5].shape"
      ],
      "execution_count": 26,
      "outputs": [
        {
          "output_type": "execute_result",
          "data": {
            "text/plain": [
              "(5, 9)"
            ]
          },
          "metadata": {},
          "execution_count": 26
        }
      ]
    },
    {
      "cell_type": "code",
      "metadata": {
        "id": "-d-gBaVtGTSC",
        "colab": {
          "base_uri": "https://localhost:8080/"
        },
        "outputId": "6ed92270-44fc-4942-d672-627fdeb57fee"
      },
      "source": [
        "example_batch = normed_train_data[:5]\n",
        "example_result = model.predict(example_batch)  # 학습이 전혀안된 모델이지만,학습전에 모델이 작동하는지 predict을 해봄\n",
        "example_result"
      ],
      "execution_count": 27,
      "outputs": [
        {
          "output_type": "execute_result",
          "data": {
            "text/plain": [
              "array([[-0.30246523],\n",
              "       [-0.28543147],\n",
              "       [ 0.4183871 ],\n",
              "       [-0.3365946 ],\n",
              "       [-0.02821867]], dtype=float32)"
            ]
          },
          "metadata": {},
          "execution_count": 27
        }
      ]
    },
    {
      "cell_type": "markdown",
      "metadata": {
        "id": "QlM8KrSOsaYo"
      },
      "source": [
        "제대로 작동하는 것 같네요."
      ]
    },
    {
      "cell_type": "markdown",
      "metadata": {
        "id": "0-qWCsh6DlyH"
      },
      "source": [
        "### 모델 훈련\n",
        "\n",
        "이 모델을 100번의 에포크(epoch) 동안 훈련합니다. 훈련 정확도와 검증 정확도는 `history` 객체에 기록됩니다."
      ]
    },
    {
      "cell_type": "code",
      "metadata": {
        "id": "sD7qHCmNIOY0",
        "colab": {
          "base_uri": "https://localhost:8080/"
        },
        "outputId": "85fc6135-06cb-4ccc-f806-883c0c32f4de"
      },
      "source": [
        "# # 에포크가 끝날 때마다 점(.)을 출력해 훈련 진행 과정을 표시합니다\n",
        "# class PrintDot(keras.callbacks.Callback):\n",
        "#   def on_epoch_end(self, epoch, logs):\n",
        "#     if epoch % 100 == 0: print('')\n",
        "#     print('.', end='')\n",
        "\n",
        "# training / validation / test\n",
        "# validation은 학습에 사용되지 않은 데이터이고\n",
        "# 오버피팅인지 판단하게됨\n",
        "\n",
        "EPOCHS = 100\n",
        "\n",
        "history = model.fit(\n",
        "  normed_train_data, train_labels,\n",
        "  epochs=EPOCHS, validation_split = 0.2) # 생략 verbose=0, callbacks=[PrintDot()]\n",
        "\n",
        "# 트레이닝 로스랑, 벨리데이션 로스 둘다 줄어들고 있음"
      ],
      "execution_count": 28,
      "outputs": [
        {
          "output_type": "stream",
          "name": "stdout",
          "text": [
            "Epoch 1/100\n",
            "8/8 [==============================] - 1s 33ms/step - loss: 574.3360 - val_loss: 574.2134\n",
            "Epoch 2/100\n",
            "8/8 [==============================] - 0s 6ms/step - loss: 534.7842 - val_loss: 536.5117\n",
            "Epoch 3/100\n",
            "8/8 [==============================] - 0s 6ms/step - loss: 500.6136 - val_loss: 499.5923\n",
            "Epoch 4/100\n",
            "8/8 [==============================] - 0s 6ms/step - loss: 465.8963 - val_loss: 460.5657\n",
            "Epoch 5/100\n",
            "8/8 [==============================] - 0s 7ms/step - loss: 428.8709 - val_loss: 419.2842\n",
            "Epoch 6/100\n",
            "8/8 [==============================] - 0s 8ms/step - loss: 388.8841 - val_loss: 373.8403\n",
            "Epoch 7/100\n",
            "8/8 [==============================] - 0s 6ms/step - loss: 345.4460 - val_loss: 325.2705\n",
            "Epoch 8/100\n",
            "8/8 [==============================] - 0s 6ms/step - loss: 300.8736 - val_loss: 278.6223\n",
            "Epoch 9/100\n",
            "8/8 [==============================] - 0s 6ms/step - loss: 256.7433 - val_loss: 231.2205\n",
            "Epoch 10/100\n",
            "8/8 [==============================] - 0s 6ms/step - loss: 213.0469 - val_loss: 186.0064\n",
            "Epoch 11/100\n",
            "8/8 [==============================] - 0s 6ms/step - loss: 171.3591 - val_loss: 143.6964\n",
            "Epoch 12/100\n",
            "8/8 [==============================] - 0s 8ms/step - loss: 132.8870 - val_loss: 106.2258\n",
            "Epoch 13/100\n",
            "8/8 [==============================] - 0s 6ms/step - loss: 99.4823 - val_loss: 75.7658\n",
            "Epoch 14/100\n",
            "8/8 [==============================] - 0s 6ms/step - loss: 72.5561 - val_loss: 53.5223\n",
            "Epoch 15/100\n",
            "8/8 [==============================] - 0s 7ms/step - loss: 52.0192 - val_loss: 38.3210\n",
            "Epoch 16/100\n",
            "8/8 [==============================] - 0s 6ms/step - loss: 38.0378 - val_loss: 29.7972\n",
            "Epoch 17/100\n",
            "8/8 [==============================] - 0s 6ms/step - loss: 29.0656 - val_loss: 24.7164\n",
            "Epoch 18/100\n",
            "8/8 [==============================] - 0s 7ms/step - loss: 23.2216 - val_loss: 21.6119\n",
            "Epoch 19/100\n",
            "8/8 [==============================] - 0s 6ms/step - loss: 19.4802 - val_loss: 19.5678\n",
            "Epoch 20/100\n",
            "8/8 [==============================] - 0s 8ms/step - loss: 16.7422 - val_loss: 17.6059\n",
            "Epoch 21/100\n",
            "8/8 [==============================] - 0s 6ms/step - loss: 14.9287 - val_loss: 16.5006\n",
            "Epoch 22/100\n",
            "8/8 [==============================] - 0s 9ms/step - loss: 13.6824 - val_loss: 15.0414\n",
            "Epoch 23/100\n",
            "8/8 [==============================] - 0s 6ms/step - loss: 12.7525 - val_loss: 14.1699\n",
            "Epoch 24/100\n",
            "8/8 [==============================] - 0s 6ms/step - loss: 12.0412 - val_loss: 13.3278\n",
            "Epoch 25/100\n",
            "8/8 [==============================] - 0s 7ms/step - loss: 11.4639 - val_loss: 12.5500\n",
            "Epoch 26/100\n",
            "8/8 [==============================] - 0s 7ms/step - loss: 11.0392 - val_loss: 11.9184\n",
            "Epoch 27/100\n",
            "8/8 [==============================] - 0s 7ms/step - loss: 10.6299 - val_loss: 11.3949\n",
            "Epoch 28/100\n",
            "8/8 [==============================] - 0s 6ms/step - loss: 10.0435 - val_loss: 11.1197\n",
            "Epoch 29/100\n",
            "8/8 [==============================] - 0s 6ms/step - loss: 9.8460 - val_loss: 10.7311\n",
            "Epoch 30/100\n",
            "8/8 [==============================] - 0s 8ms/step - loss: 9.3942 - val_loss: 10.4962\n",
            "Epoch 31/100\n",
            "8/8 [==============================] - 0s 7ms/step - loss: 9.1434 - val_loss: 9.9809\n",
            "Epoch 32/100\n",
            "8/8 [==============================] - 0s 6ms/step - loss: 8.8896 - val_loss: 9.6574\n",
            "Epoch 33/100\n",
            "8/8 [==============================] - 0s 6ms/step - loss: 8.7207 - val_loss: 9.6042\n",
            "Epoch 34/100\n",
            "8/8 [==============================] - 0s 6ms/step - loss: 8.4554 - val_loss: 9.6033\n",
            "Epoch 35/100\n",
            "8/8 [==============================] - 0s 6ms/step - loss: 8.4753 - val_loss: 9.1179\n",
            "Epoch 36/100\n",
            "8/8 [==============================] - 0s 6ms/step - loss: 8.2982 - val_loss: 9.1333\n",
            "Epoch 37/100\n",
            "8/8 [==============================] - 0s 7ms/step - loss: 8.0898 - val_loss: 8.9371\n",
            "Epoch 38/100\n",
            "8/8 [==============================] - 0s 6ms/step - loss: 8.0111 - val_loss: 9.0004\n",
            "Epoch 39/100\n",
            "8/8 [==============================] - 0s 6ms/step - loss: 7.8694 - val_loss: 8.8879\n",
            "Epoch 40/100\n",
            "8/8 [==============================] - 0s 6ms/step - loss: 7.9851 - val_loss: 8.8234\n",
            "Epoch 41/100\n",
            "8/8 [==============================] - 0s 6ms/step - loss: 7.8645 - val_loss: 8.7337\n",
            "Epoch 42/100\n",
            "8/8 [==============================] - 0s 7ms/step - loss: 7.6386 - val_loss: 8.6626\n",
            "Epoch 43/100\n",
            "8/8 [==============================] - 0s 6ms/step - loss: 7.8986 - val_loss: 8.6122\n",
            "Epoch 44/100\n",
            "8/8 [==============================] - 0s 6ms/step - loss: 7.7224 - val_loss: 8.6385\n",
            "Epoch 45/100\n",
            "8/8 [==============================] - 0s 6ms/step - loss: 7.4475 - val_loss: 8.5846\n",
            "Epoch 46/100\n",
            "8/8 [==============================] - 0s 6ms/step - loss: 7.6404 - val_loss: 8.4601\n",
            "Epoch 47/100\n",
            "8/8 [==============================] - 0s 6ms/step - loss: 7.4066 - val_loss: 8.4306\n",
            "Epoch 48/100\n",
            "8/8 [==============================] - 0s 8ms/step - loss: 7.3961 - val_loss: 8.6346\n",
            "Epoch 49/100\n",
            "8/8 [==============================] - 0s 6ms/step - loss: 7.3065 - val_loss: 8.3572\n",
            "Epoch 50/100\n",
            "8/8 [==============================] - 0s 6ms/step - loss: 7.4543 - val_loss: 8.3493\n",
            "Epoch 51/100\n",
            "8/8 [==============================] - 0s 6ms/step - loss: 7.2879 - val_loss: 8.6027\n",
            "Epoch 52/100\n",
            "8/8 [==============================] - 0s 6ms/step - loss: 7.2322 - val_loss: 8.5571\n",
            "Epoch 53/100\n",
            "8/8 [==============================] - 0s 7ms/step - loss: 7.0157 - val_loss: 8.4440\n",
            "Epoch 54/100\n",
            "8/8 [==============================] - 0s 7ms/step - loss: 7.1456 - val_loss: 8.3658\n",
            "Epoch 55/100\n",
            "8/8 [==============================] - 0s 6ms/step - loss: 7.1321 - val_loss: 8.6024\n",
            "Epoch 56/100\n",
            "8/8 [==============================] - 0s 6ms/step - loss: 7.2577 - val_loss: 8.3014\n",
            "Epoch 57/100\n",
            "8/8 [==============================] - 0s 6ms/step - loss: 7.3775 - val_loss: 8.2011\n",
            "Epoch 58/100\n",
            "8/8 [==============================] - 0s 6ms/step - loss: 7.0364 - val_loss: 8.3690\n",
            "Epoch 59/100\n",
            "8/8 [==============================] - 0s 6ms/step - loss: 6.9299 - val_loss: 8.3099\n",
            "Epoch 60/100\n",
            "8/8 [==============================] - 0s 7ms/step - loss: 7.1561 - val_loss: 8.2057\n",
            "Epoch 61/100\n",
            "8/8 [==============================] - 0s 6ms/step - loss: 7.0102 - val_loss: 8.2095\n",
            "Epoch 62/100\n",
            "8/8 [==============================] - 0s 6ms/step - loss: 6.9944 - val_loss: 8.2683\n",
            "Epoch 63/100\n",
            "8/8 [==============================] - 0s 6ms/step - loss: 6.9422 - val_loss: 8.1990\n",
            "Epoch 64/100\n",
            "8/8 [==============================] - 0s 6ms/step - loss: 6.8569 - val_loss: 8.1491\n",
            "Epoch 65/100\n",
            "8/8 [==============================] - 0s 6ms/step - loss: 6.8451 - val_loss: 8.1329\n",
            "Epoch 66/100\n",
            "8/8 [==============================] - 0s 8ms/step - loss: 6.9198 - val_loss: 8.1771\n",
            "Epoch 67/100\n",
            "8/8 [==============================] - 0s 6ms/step - loss: 6.9586 - val_loss: 7.9888\n",
            "Epoch 68/100\n",
            "8/8 [==============================] - 0s 6ms/step - loss: 6.7212 - val_loss: 8.0853\n",
            "Epoch 69/100\n",
            "8/8 [==============================] - 0s 7ms/step - loss: 6.9094 - val_loss: 8.0854\n",
            "Epoch 70/100\n",
            "8/8 [==============================] - 0s 6ms/step - loss: 6.7403 - val_loss: 8.5800\n",
            "Epoch 71/100\n",
            "8/8 [==============================] - 0s 6ms/step - loss: 6.8173 - val_loss: 8.0812\n",
            "Epoch 72/100\n",
            "8/8 [==============================] - 0s 6ms/step - loss: 6.8556 - val_loss: 7.9647\n",
            "Epoch 73/100\n",
            "8/8 [==============================] - 0s 6ms/step - loss: 6.7350 - val_loss: 8.0410\n",
            "Epoch 74/100\n",
            "8/8 [==============================] - 0s 6ms/step - loss: 6.6439 - val_loss: 8.3389\n",
            "Epoch 75/100\n",
            "8/8 [==============================] - 0s 6ms/step - loss: 6.8368 - val_loss: 8.0527\n",
            "Epoch 76/100\n",
            "8/8 [==============================] - 0s 7ms/step - loss: 6.7623 - val_loss: 8.1242\n",
            "Epoch 77/100\n",
            "8/8 [==============================] - 0s 6ms/step - loss: 6.7873 - val_loss: 8.1181\n",
            "Epoch 78/100\n",
            "8/8 [==============================] - 0s 6ms/step - loss: 6.6656 - val_loss: 8.1239\n",
            "Epoch 79/100\n",
            "8/8 [==============================] - 0s 7ms/step - loss: 6.6289 - val_loss: 8.0268\n",
            "Epoch 80/100\n",
            "8/8 [==============================] - 0s 6ms/step - loss: 6.5902 - val_loss: 8.0150\n",
            "Epoch 81/100\n",
            "8/8 [==============================] - 0s 6ms/step - loss: 6.7163 - val_loss: 8.1511\n",
            "Epoch 82/100\n",
            "8/8 [==============================] - 0s 6ms/step - loss: 6.6271 - val_loss: 8.0046\n",
            "Epoch 83/100\n",
            "8/8 [==============================] - 0s 6ms/step - loss: 6.9014 - val_loss: 8.0546\n",
            "Epoch 84/100\n",
            "8/8 [==============================] - 0s 6ms/step - loss: 6.5513 - val_loss: 7.9657\n",
            "Epoch 85/100\n",
            "8/8 [==============================] - 0s 7ms/step - loss: 6.4527 - val_loss: 7.9502\n",
            "Epoch 86/100\n",
            "8/8 [==============================] - 0s 6ms/step - loss: 6.4448 - val_loss: 7.8465\n",
            "Epoch 87/100\n",
            "8/8 [==============================] - 0s 6ms/step - loss: 6.5637 - val_loss: 7.8768\n",
            "Epoch 88/100\n",
            "8/8 [==============================] - 0s 6ms/step - loss: 6.4210 - val_loss: 8.3270\n",
            "Epoch 89/100\n",
            "8/8 [==============================] - 0s 6ms/step - loss: 6.6807 - val_loss: 7.8682\n",
            "Epoch 90/100\n",
            "8/8 [==============================] - 0s 6ms/step - loss: 6.4159 - val_loss: 8.0893\n",
            "Epoch 91/100\n",
            "8/8 [==============================] - 0s 7ms/step - loss: 6.2582 - val_loss: 7.9453\n",
            "Epoch 92/100\n",
            "8/8 [==============================] - 0s 7ms/step - loss: 6.4124 - val_loss: 7.9825\n",
            "Epoch 93/100\n",
            "8/8 [==============================] - 0s 7ms/step - loss: 6.5366 - val_loss: 7.8710\n",
            "Epoch 94/100\n",
            "8/8 [==============================] - 0s 7ms/step - loss: 6.3926 - val_loss: 7.8916\n",
            "Epoch 95/100\n",
            "8/8 [==============================] - 0s 7ms/step - loss: 6.4203 - val_loss: 7.8661\n",
            "Epoch 96/100\n",
            "8/8 [==============================] - 0s 7ms/step - loss: 6.3293 - val_loss: 8.1162\n",
            "Epoch 97/100\n",
            "8/8 [==============================] - 0s 6ms/step - loss: 6.3808 - val_loss: 7.9874\n",
            "Epoch 98/100\n",
            "8/8 [==============================] - 0s 7ms/step - loss: 6.4083 - val_loss: 7.9835\n",
            "Epoch 99/100\n",
            "8/8 [==============================] - 0s 6ms/step - loss: 6.3387 - val_loss: 8.2354\n",
            "Epoch 100/100\n",
            "8/8 [==============================] - 0s 6ms/step - loss: 6.4861 - val_loss: 7.9556\n"
          ]
        }
      ]
    },
    {
      "cell_type": "markdown",
      "metadata": {
        "id": "tQm3pc0FYPQB"
      },
      "source": [
        "`history` 객체에 저장된 통계치를 사용해 모델의 훈련 과정을 시각화해 보죠."
      ]
    },
    {
      "cell_type": "code",
      "metadata": {
        "id": "4Xj91b-dymEy",
        "colab": {
          "base_uri": "https://localhost:8080/",
          "height": 204
        },
        "outputId": "47673d0b-460f-48b8-8d68-386febaa755e"
      },
      "source": [
        "hist = pd.DataFrame(history.history)\n",
        "hist['epoch'] = history.epoch\n",
        "hist.tail()"
      ],
      "execution_count": 29,
      "outputs": [
        {
          "output_type": "execute_result",
          "data": {
            "text/html": [
              "<div>\n",
              "<style scoped>\n",
              "    .dataframe tbody tr th:only-of-type {\n",
              "        vertical-align: middle;\n",
              "    }\n",
              "\n",
              "    .dataframe tbody tr th {\n",
              "        vertical-align: top;\n",
              "    }\n",
              "\n",
              "    .dataframe thead th {\n",
              "        text-align: right;\n",
              "    }\n",
              "</style>\n",
              "<table border=\"1\" class=\"dataframe\">\n",
              "  <thead>\n",
              "    <tr style=\"text-align: right;\">\n",
              "      <th></th>\n",
              "      <th>loss</th>\n",
              "      <th>val_loss</th>\n",
              "      <th>epoch</th>\n",
              "    </tr>\n",
              "  </thead>\n",
              "  <tbody>\n",
              "    <tr>\n",
              "      <th>95</th>\n",
              "      <td>6.329306</td>\n",
              "      <td>8.116203</td>\n",
              "      <td>95</td>\n",
              "    </tr>\n",
              "    <tr>\n",
              "      <th>96</th>\n",
              "      <td>6.380760</td>\n",
              "      <td>7.987390</td>\n",
              "      <td>96</td>\n",
              "    </tr>\n",
              "    <tr>\n",
              "      <th>97</th>\n",
              "      <td>6.408329</td>\n",
              "      <td>7.983532</td>\n",
              "      <td>97</td>\n",
              "    </tr>\n",
              "    <tr>\n",
              "      <th>98</th>\n",
              "      <td>6.338707</td>\n",
              "      <td>8.235367</td>\n",
              "      <td>98</td>\n",
              "    </tr>\n",
              "    <tr>\n",
              "      <th>99</th>\n",
              "      <td>6.486071</td>\n",
              "      <td>7.955573</td>\n",
              "      <td>99</td>\n",
              "    </tr>\n",
              "  </tbody>\n",
              "</table>\n",
              "</div>"
            ],
            "text/plain": [
              "        loss  val_loss  epoch\n",
              "95  6.329306  8.116203     95\n",
              "96  6.380760  7.987390     96\n",
              "97  6.408329  7.983532     97\n",
              "98  6.338707  8.235367     98\n",
              "99  6.486071  7.955573     99"
            ]
          },
          "metadata": {},
          "execution_count": 29
        }
      ]
    },
    {
      "cell_type": "markdown",
      "metadata": {
        "id": "AqsuANc11FYv"
      },
      "source": [
        "이 그래프를 보면 수 백번 에포크를 진행한 이후에는 모델이 거의 향상되지 않는 것 같습니다. `model.fit` 메서드를 수정하여 검증 점수가 향상되지 않으면 자동으로 훈련을 멈추도록 만들어 보죠. 에포크마다 훈련 상태를 점검하기 위해 *EarlyStopping 콜백(callback)*을 사용하겠습니다. 지정된 에포크 횟수 동안 성능 향상이 없으면 자동으로 훈련이 멈춥니다.\n",
        "\n",
        "이 콜백에 대해 더 자세한 내용은 [여기](https://www.tensorflow.org/versions/master/api_docs/python/tf/keras/callbacks/EarlyStopping)를 참고하세요."
      ]
    },
    {
      "cell_type": "code",
      "metadata": {
        "id": "RXlzWGCdWCmT",
        "colab": {
          "base_uri": "https://localhost:8080/"
        },
        "outputId": "c27fe3bd-8755-4f71-f24d-1c499355bf66"
      },
      "source": [
        "# patience 매개변수는 성능 향상을 체크할 에포크 횟수입니다\n",
        "# 얼리스타핑 -> 수동으로 찾는게 아니라 자동으로 트레이닝 멈추는 부분을 찾음\n",
        "# patience= 10의 의미 :  validation 로스가 10번이상 줄어들지 않으면 epoch을 그만할래 라는 의미\n",
        "early_stop = keras.callbacks.EarlyStopping(monitor='val_loss', patience=10)\n",
        "\n",
        "model.fit(normed_train_data, train_labels, epochs=EPOCHS,\n",
        "                    validation_split = 0.2, callbacks=[early_stop])"
      ],
      "execution_count": 30,
      "outputs": [
        {
          "output_type": "stream",
          "name": "stdout",
          "text": [
            "Epoch 1/100\n",
            "8/8 [==============================] - 0s 13ms/step - loss: 6.3763 - val_loss: 7.8852\n",
            "Epoch 2/100\n",
            "8/8 [==============================] - 0s 6ms/step - loss: 6.1933 - val_loss: 8.1766\n",
            "Epoch 3/100\n",
            "8/8 [==============================] - 0s 6ms/step - loss: 6.2661 - val_loss: 7.7824\n",
            "Epoch 4/100\n",
            "8/8 [==============================] - 0s 8ms/step - loss: 6.2987 - val_loss: 7.7462\n",
            "Epoch 5/100\n",
            "8/8 [==============================] - 0s 7ms/step - loss: 6.1963 - val_loss: 8.2169\n",
            "Epoch 6/100\n",
            "8/8 [==============================] - 0s 6ms/step - loss: 6.3618 - val_loss: 7.7414\n",
            "Epoch 7/100\n",
            "8/8 [==============================] - 0s 8ms/step - loss: 6.3680 - val_loss: 7.7811\n",
            "Epoch 8/100\n",
            "8/8 [==============================] - 0s 6ms/step - loss: 6.2448 - val_loss: 7.8785\n",
            "Epoch 9/100\n",
            "8/8 [==============================] - 0s 7ms/step - loss: 6.2524 - val_loss: 7.8740\n",
            "Epoch 10/100\n",
            "8/8 [==============================] - 0s 6ms/step - loss: 6.2157 - val_loss: 8.0962\n",
            "Epoch 11/100\n",
            "8/8 [==============================] - 0s 9ms/step - loss: 6.3588 - val_loss: 7.7429\n",
            "Epoch 12/100\n",
            "8/8 [==============================] - 0s 7ms/step - loss: 6.3009 - val_loss: 7.9570\n",
            "Epoch 13/100\n",
            "8/8 [==============================] - 0s 7ms/step - loss: 6.3398 - val_loss: 7.9515\n",
            "Epoch 14/100\n",
            "8/8 [==============================] - 0s 6ms/step - loss: 6.1301 - val_loss: 7.9967\n",
            "Epoch 15/100\n",
            "8/8 [==============================] - 0s 10ms/step - loss: 6.3108 - val_loss: 7.8676\n",
            "Epoch 16/100\n",
            "8/8 [==============================] - 0s 7ms/step - loss: 6.1754 - val_loss: 7.7395\n",
            "Epoch 17/100\n",
            "8/8 [==============================] - 0s 7ms/step - loss: 6.1332 - val_loss: 7.7877\n",
            "Epoch 18/100\n",
            "8/8 [==============================] - 0s 7ms/step - loss: 6.2075 - val_loss: 7.9000\n",
            "Epoch 19/100\n",
            "8/8 [==============================] - 0s 7ms/step - loss: 6.0936 - val_loss: 7.8348\n",
            "Epoch 20/100\n",
            "8/8 [==============================] - 0s 6ms/step - loss: 6.3235 - val_loss: 8.1027\n",
            "Epoch 21/100\n",
            "8/8 [==============================] - 0s 8ms/step - loss: 6.1081 - val_loss: 7.8924\n",
            "Epoch 22/100\n",
            "8/8 [==============================] - 0s 6ms/step - loss: 6.1207 - val_loss: 8.1734\n",
            "Epoch 23/100\n",
            "8/8 [==============================] - 0s 6ms/step - loss: 6.1045 - val_loss: 7.9057\n",
            "Epoch 24/100\n",
            "8/8 [==============================] - 0s 7ms/step - loss: 6.1144 - val_loss: 7.9038\n",
            "Epoch 25/100\n",
            "8/8 [==============================] - 0s 6ms/step - loss: 6.3832 - val_loss: 7.8346\n",
            "Epoch 26/100\n",
            "8/8 [==============================] - 0s 6ms/step - loss: 6.0031 - val_loss: 8.0327\n"
          ]
        },
        {
          "output_type": "execute_result",
          "data": {
            "text/plain": [
              "<keras.callbacks.History at 0x7f78b8da2e50>"
            ]
          },
          "metadata": {},
          "execution_count": 30
        }
      ]
    },
    {
      "cell_type": "markdown",
      "metadata": {
        "id": "3St8-DmrX8P4"
      },
      "source": [
        "이 그래프를 보면 검증 세트의 평균 오차가 약 +/- 2 MPG입니다. 좋은 결과인가요? 이에 대한 평가는 여러분에게 맡기겠습니다.\n",
        "\n",
        "모델을 훈련할 때 사용하지 않았던 **테스트 세트**에서 모델의 성능을 확인해 보죠. 이를 통해 모델이 실전에 투입되었을 때 모델의 성능을 짐작할 수 있습니다:"
      ]
    },
    {
      "cell_type": "code",
      "metadata": {
        "id": "jl_yNr5n1kms",
        "colab": {
          "base_uri": "https://localhost:8080/"
        },
        "outputId": "788be0ef-ba64-4c48-fb01-0118771cfe08"
      },
      "source": [
        "# evalutate 를 사용하여 평가를 함 / loss 차이가 10정도나는 모델이 만들어짐\n",
        "\n",
        "loss = model.evaluate(normed_test_data, test_labels, verbose=2)\n",
        "\n",
        "print(\"테스트 세트의 평균 절대 오차: {:5.2f} MPG\".format(loss))"
      ],
      "execution_count": 31,
      "outputs": [
        {
          "output_type": "stream",
          "name": "stdout",
          "text": [
            "3/3 - 0s - loss: 5.4529\n",
            "테스트 세트의 평균 절대 오차:  5.45 MPG\n"
          ]
        }
      ]
    },
    {
      "cell_type": "markdown",
      "metadata": {
        "id": "ft603OzXuEZC"
      },
      "source": [
        "## 예측\n",
        "\n",
        "마지막으로 테스트 세트에 있는 샘플을 사용해 MPG 값을 예측해 보겠습니다:"
      ]
    },
    {
      "cell_type": "code",
      "metadata": {
        "id": "Xe7RXH3N3CWU",
        "colab": {
          "base_uri": "https://localhost:8080/",
          "height": 279
        },
        "outputId": "f68dd7bb-7896-48ce-98d0-3989dd89f347"
      },
      "source": [
        "test_predictions = model.predict(normed_test_data).flatten()\n",
        "\n",
        "plt.scatter(test_labels, test_predictions)\n",
        "plt.xlabel('True Values [MPG]')\n",
        "plt.ylabel('Predictions [MPG]')\n",
        "plt.axis('equal')\n",
        "plt.axis('square')\n",
        "plt.xlim([0,plt.xlim()[1]])\n",
        "plt.ylim([0,plt.ylim()[1]])\n",
        "_ = plt.plot([-100, 100], [-100, 100])\n"
      ],
      "execution_count": 32,
      "outputs": [
        {
          "output_type": "display_data",
          "data": {
            "image/png": "[encoded data removed]",
            "text/plain": [
              "<Figure size 432x288 with 1 Axes>"
            ]
          },
          "metadata": {
            "needs_background": "light"
          }
        }
      ]
    },
    {
      "cell_type": "markdown",
      "metadata": {
        "id": "mU1jBsRLaCeY"
      },
      "source": [
        "간단한 모델로 구현을 해보았는데, 꽤 잘 예측한 것 같습니다. 오차의 분포를 살펴 보죠."
      ]
    },
    {
      "cell_type": "code",
      "metadata": {
        "id": "f-OHX4DiXd8x",
        "colab": {
          "base_uri": "https://localhost:8080/",
          "height": 279
        },
        "outputId": "92852f26-048d-4e71-ad58-4b77c335480b"
      },
      "source": [
        "error = test_predictions - test_labels\n",
        "plt.hist(error, bins = 25)\n",
        "plt.xlabel(\"Prediction Error [MPG]\")\n",
        "_ = plt.ylabel(\"Count\")"
      ],
      "execution_count": 33,
      "outputs": [
        {
          "output_type": "display_data",
          "data": {
            "image/png": "[encoded data removed]",
            "text/plain": [
              "<Figure size 432x288 with 1 Axes>"
            ]
          },
          "metadata": {
            "needs_background": "light"
          }
        }
      ]
    },
    {
      "cell_type": "markdown",
      "metadata": {
        "id": "3PkzkjFkaCed"
      },
      "source": [
        "가우시안 분포가 아니지만 아마도 훈련 샘플의 수가 매우 작기 때문일 것입니다."
      ]
    },
    {
      "cell_type": "markdown",
      "metadata": {
        "id": "vgGQuV-yqYZH"
      },
      "source": [
        "## 결론\n",
        "\n",
        "이 노트북은 non-linear regression 문제를 위한 기법을 소개합니다.\n",
        "\n",
        "- 이전 선형 회귀에 비해서 성능이 더 좋아졌음\n",
        "- model에 relu 활성함수를 추가\n",
        "- loss가 6점대로 줄었음\n",
        "- 평균 오차도 5.4로 선형보다 줄었음\n"
      ]
    }
  ]
}