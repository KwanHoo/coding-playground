{
 "cells": [
  {
   "cell_type": "markdown",
   "metadata": {
    "id": "9eFYylbzK7mK"
   },
   "source": [
    "# Deep Learning - Tensor Manipulation"
   ]
  },
  {
   "cell_type": "markdown",
   "metadata": {
    "id": "-2gCU5zOK7mO"
   },
   "source": [
    "### Author : Sangkeun Jung (hugmanskj@gmail.com)"
   ]
  },
  {
   "cell_type": "markdown",
   "metadata": {
    "id": "dzIcPV2eK7mS"
   },
   "source": [
    "In this tutorial, students can learn various tensor operations and handling techniques. I selected most frequentaly used and most fundamental tensor operations. This is the core part of deep learning, so please take a time to understand and practice the codes. \n",
    "\n",
    "The codes are based on PyTorch, and some operations, grammars are very specific to PyTorch. However, the concepts and the way of handling tensors are common in other machine learning frameworks such as tensorflow or mxnet. "
   ]
  },
  {
   "cell_type": "markdown",
   "metadata": {
    "id": "DLD-f7z4K7mV"
   },
   "source": [
    "### Table of Contents"
   ]
  },
  {
   "cell_type": "markdown",
   "metadata": {
    "id": "M81LK7ymK7mX"
   },
   "source": [
    "We can roughly categorize the data handling with following types :\n",
    "\n",
    "- Tensor\n",
    "    - Tensor Creation\n",
    "        - Python object to Tensor Object\n",
    "        - Numpy object to Tensor object\n",
    "        - Tensor Types\n",
    "    - Tensor Shape\n",
    "        - check shape\n",
    "        - reshape\n",
    "        - view\n",
    "    - Tensor Device Change\n",
    "        - cpu or CUDA\n",
    "    - Tensor Data Fetch\n",
    "        - Tensor data to Python object\n",
    "        - Tensor data to Numpy object\n",
    "        - Tensor scalar to Python object (item)\n",
    "- 1 to N Operations ( a Tensor → a list of Tensors )\n",
    "- N to 1 Operations ( a list of Tensors → a Tensor )\n",
    "- Dimension Operations\n",
    "    - squeeze\n",
    "    - unsqueeze\n",
    "    - permutation\n",
    "    - transpose\n",
    "    - ...\n",
    "- Indexing\n",
    "- Reduce Operations\n",
    "    - min, max, mean\n",
    "    - argmax, argmin\n",
    "\n"
   ]
  },
  {
   "cell_type": "markdown",
   "metadata": {
    "id": "XPUeVPbCK7mb"
   },
   "source": [
    "## Tensor Creation"
   ]
  },
  {
   "cell_type": "markdown",
   "metadata": {
    "id": "YoCMo-ieK7md"
   },
   "source": [
    "#### Python Object to Tensor\n",
    "\n",
    "In python, we have several types of python-objecs to express **number**.\n",
    "- scalar (integer, float)\n",
    "- array ( list ) \n",
    "\n",
    "We can simply create tensor with following operations.\n"
   ]
  },
  {
   "cell_type": "markdown",
   "metadata": {
    "id": "ZG8n2AiTK7mh"
   },
   "source": [
    "#### 1. data(speech, vision...) to cpu\n",
    "#### 2. data -> tensor"
   ]
  },
  {
   "cell_type": "code",
   "execution_count": null,
   "metadata": {
    "colab": {
     "base_uri": "https://localhost:8080/"
    },
    "id": "7m2m8gNLK7ml",
    "outputId": "0f69de1f-3d85-44c0-e66d-4d85ef28673a"
   },
   "outputs": [
    {
     "name": "stdout",
     "output_type": "stream",
     "text": [
      "<class 'float'>\n",
      "<class 'torch.Tensor'>\n"
     ]
    },
    {
     "data": {
      "text/plain": [
       "tensor(2400.)"
      ]
     },
     "execution_count": 17,
     "metadata": {
      "tags": []
     },
     "output_type": "execute_result"
    }
   ],
   "source": [
    "import torch \n",
    "# float variable to tensor object\n",
    "x = 2400.0 # float value\n",
    "print( type(x) )\n",
    "y = torch.tensor(x)\n",
    "print( type(y) ) \n",
    "y"
   ]
  },
  {
   "cell_type": "code",
   "execution_count": null,
   "metadata": {
    "colab": {
     "base_uri": "https://localhost:8080/"
    },
    "id": "Hov8Z2ayK7mu",
    "outputId": "8082fc6f-dc79-4a8b-d90e-593a233c6d9d"
   },
   "outputs": [
    {
     "name": "stdout",
     "output_type": "stream",
     "text": [
      "<class 'torch.Tensor'>\n"
     ]
    },
    {
     "data": {
      "text/plain": [
       "tensor(2400.)"
      ]
     },
     "execution_count": 18,
     "metadata": {
      "tags": []
     },
     "output_type": "execute_result"
    }
   ],
   "source": [
    "# directly create tensor \n",
    "y = torch.tensor(2400.0)\n",
    "print( type(y) ) \n",
    "y"
   ]
  },
  {
   "cell_type": "code",
   "execution_count": null,
   "metadata": {
    "colab": {
     "base_uri": "https://localhost:8080/"
    },
    "id": "_RuOuzOtK7mw",
    "outputId": "c5cbf25f-43a6-4ae8-cfad-f590660d161d"
   },
   "outputs": [
    {
     "name": "stdout",
     "output_type": "stream",
     "text": [
      "<class 'torch.Tensor'>\n"
     ]
    },
    {
     "data": {
      "text/plain": [
       "tensor([1, 2, 3, 4])"
      ]
     },
     "execution_count": 19,
     "metadata": {
      "tags": []
     },
     "output_type": "execute_result"
    }
   ],
   "source": [
    "# list --> tensor\n",
    "x = [1,2,3,4]\n",
    "y = torch.tensor(x)\n",
    "print( type(y) ) \n",
    "y  #tensor type object"
   ]
  },
  {
   "cell_type": "code",
   "execution_count": null,
   "metadata": {
    "colab": {
     "base_uri": "https://localhost:8080/"
    },
    "id": "YhU8k_3JK7mx",
    "outputId": "203a5181-d84e-45b8-e9d7-7d3e960fe819"
   },
   "outputs": [
    {
     "name": "stdout",
     "output_type": "stream",
     "text": [
      "tensor([[1, 2, 3, 4],\n",
      "        [5, 6, 7, 8]])\n",
      "torch.Size([2, 4])\n",
      "torch.Size([2, 4])\n"
     ]
    }
   ],
   "source": [
    "# list of list --> tensor\n",
    "x = [ [1,2,3,4], \n",
    "      [5,6,7,8]\n",
    "    ]  # 2 dimensional array\n",
    "print( torch.tensor(x) )\n",
    "print( torch.tensor(x).shape )    # attribute\n",
    "print( torch.tensor(x).size() )   # function\n"
   ]
  },
  {
   "cell_type": "markdown",
   "metadata": {
    "id": "XLH6XkmcK7mz"
   },
   "source": [
    "#### Numpy  Object to Tensor\n",
    "\n",
    "If you are familar with numpy, PyTorch tensor is very easy to understand since most of the pytorch API are just GPU-computable clones of numpy.   \n",
    "Numpy는 데이터과학, 딥러닝, Finance 등 다양한 분야에서 사용되는 중요 라이브러리임  \n",
    "Handle data, 즉 데이터를 다룰시 Numpy 학습은 필수!! "
   ]
  },
  {
   "cell_type": "code",
   "execution_count": null,
   "metadata": {
    "colab": {
     "base_uri": "https://localhost:8080/"
    },
    "id": "SB_vS4DZK7m1",
    "outputId": "0dbf0ec8-cb75-4635-d285-e997fea9ffac"
   },
   "outputs": [
    {
     "name": "stdout",
     "output_type": "stream",
     "text": [
      "tensor(34.3000)\n",
      "torch.float32\n",
      "<class 'numpy.ndarray'>\n",
      "float64\n"
     ]
    },
    {
     "data": {
      "text/plain": [
       "tensor(34.3000, dtype=torch.float64)"
      ]
     },
     "execution_count": 21,
     "metadata": {
      "tags": []
     },
     "output_type": "execute_result"
    }
   ],
   "source": [
    "import numpy as np\n",
    "a = 34.3\n",
    "b = torch.tensor(a)\n",
    "print(b)\n",
    "print(b.dtype)\n",
    "\n",
    "x = np.array( 34.3 ) \n",
    "print(type(x))\n",
    "print(x.dtype)\n",
    "y = torch.tensor(x)\n",
    "y"
   ]
  },
  {
   "cell_type": "markdown",
   "metadata": {
    "id": "g8INwOjyK7m3"
   },
   "source": [
    "**Check :**  the dtype(data type) is explicitly set at numpy-to-tensor conversion"
   ]
  },
  {
   "cell_type": "code",
   "execution_count": null,
   "metadata": {
    "colab": {
     "base_uri": "https://localhost:8080/"
    },
    "id": "GooU2LH9K7m4",
    "outputId": "68675e87-c13a-425b-8418-55bc7a908c05"
   },
   "outputs": [
    {
     "name": "stdout",
     "output_type": "stream",
     "text": [
      "(2, 4)\n",
      "tensor([[1, 2, 3, 4],\n",
      "        [5, 6, 7, 8]])\n",
      "torch.Size([2, 4])\n"
     ]
    }
   ],
   "source": [
    "x = np.array( [ [1,2,3,4], \n",
    "                [5,6,7,8]\n",
    "               ]\n",
    "            ) # 2 dimensional array\n",
    "print( x.shape )\n",
    "\n",
    "print( torch.tensor(x) )\n",
    "print( torch.tensor(x).shape )\n",
    "\n",
    "# 넘파이 notation이랑 pytorch notation 이란 약간의 차이는 있음\n",
    "# (2, 4)  튜플\n",
    "# [2, 4] 블랭킷"
   ]
  },
  {
   "cell_type": "markdown",
   "metadata": {
    "id": "sFt7Z2HwK7m5"
   },
   "source": [
    "Even, much larger tensor dimension can be handled. "
   ]
  },
  {
   "cell_type": "code",
   "execution_count": null,
   "metadata": {
    "colab": {
     "base_uri": "https://localhost:8080/"
    },
    "id": "byJPur9TK7m5",
    "outputId": "df788c31-9c41-4654-e044-83720a1c3ec1"
   },
   "outputs": [
    {
     "name": "stdout",
     "output_type": "stream",
     "text": [
      "tensor([[[[1, 2, 3, 4],\n",
      "          [5, 6, 7, 8]]]])\n",
      "torch.Size([1, 1, 2, 4])\n"
     ]
    }
   ],
   "source": [
    "x = np.array([ [[ [1,2,3,4], \n",
    "                [5,6,7,8] ]] ]\n",
    "            ) \n",
    "print( torch.tensor(x) )\n",
    "print( torch.tensor(x).shape )  # axix 0~3\n",
    "\n",
    "# axis ≓ dimension  축 ≓ 차원 (유사개념)\n",
    "# zero base indexing, axis= 0 부터 시작"
   ]
  },
  {
   "cell_type": "markdown",
   "metadata": {
    "id": "gu_w-cbkK7m6"
   },
   "source": [
    "#### Tensor Types \n",
    "\n",
    "Pytorch tensor supports many numeric types. The summary is shown in below. \n",
    "\n",
    "Most of case, **float** dtype is the typical choice for setting data type."
   ]
  },
  {
   "cell_type": "markdown",
   "metadata": {
    "id": "ALJcM4MlK7m7"
   },
   "source": [
    "#### Tensor dtype Conversion \n",
    "\n",
    "Type conversion or setting is conducted with several ways. \n",
    "- by Creation \n",
    "- by Conversion\n",
    "    - .to()\n",
    "    - .type()\n",
    "       \n"
   ]
  },
  {
   "cell_type": "code",
   "execution_count": null,
   "metadata": {
    "colab": {
     "base_uri": "https://localhost:8080/"
    },
    "id": "oBpuLoi0K7m8",
    "outputId": "e733fc67-eb96-4a41-991d-48a807f1640c"
   },
   "outputs": [
    {
     "name": "stdout",
     "output_type": "stream",
     "text": [
      "tensor([1., 2., 3., 4.])\n",
      "torch.float32\n"
     ]
    }
   ],
   "source": [
    "# by creation\n",
    "x = torch.tensor( [1, 2, 3, 4], dtype=torch.float)\n",
    "print( x )\n",
    "print( x.dtype )"
   ]
  },
  {
   "cell_type": "code",
   "execution_count": null,
   "metadata": {
    "colab": {
     "base_uri": "https://localhost:8080/"
    },
    "id": "dx4QfOMtK7m8",
    "outputId": "bcb0339b-3342-49c6-b6fa-44c63ab15a36"
   },
   "outputs": [
    {
     "name": "stdout",
     "output_type": "stream",
     "text": [
      "tensor([1., 2., 3., 4.], dtype=torch.float16)\n",
      "torch.float16\n"
     ]
    }
   ],
   "source": [
    "# by creation\n",
    "x = torch.tensor( [1, 2, 3, 4], dtype=torch.float16)\n",
    "print( x )\n",
    "print( x.dtype )"
   ]
  },
  {
   "cell_type": "code",
   "execution_count": null,
   "metadata": {
    "colab": {
     "base_uri": "https://localhost:8080/"
    },
    "id": "e6R3DiUhK7m-",
    "outputId": "538a7f21-18d5-4471-c4c6-1640b20ab61b"
   },
   "outputs": [
    {
     "name": "stdout",
     "output_type": "stream",
     "text": [
      "tensor([1., 2., 3., 4.])\n",
      "torch.float32\n",
      "tensor([1, 2, 3, 4], dtype=torch.int32)\n",
      "torch.int32\n"
     ]
    }
   ],
   "source": [
    "# by explicit conversion by .to()\n",
    "x = torch.tensor( [1, 2, 3, 4], dtype=torch.float)\n",
    "print( x )\n",
    "print( x.dtype )\n",
    "y = x.to(torch.int)  # .to() is quite useful function in many cases. it is not for only type conversion but also device change. \n",
    "print( y )\n",
    "print( y.dtype )"
   ]
  },
  {
   "cell_type": "code",
   "execution_count": null,
   "metadata": {
    "colab": {
     "base_uri": "https://localhost:8080/"
    },
    "id": "pqg62mXyK7m_",
    "outputId": "101ae48b-a63a-4334-f7d3-a80bc745c69b"
   },
   "outputs": [
    {
     "name": "stdout",
     "output_type": "stream",
     "text": [
      "tensor([1., 2., 3., 4.])\n",
      "torch.float32\n",
      "tensor([1, 2, 3, 4], dtype=torch.int32)\n",
      "torch.int32\n"
     ]
    }
   ],
   "source": [
    "# by explicit conversion by type()\n",
    "x = torch.tensor( [1, 2, 3, 4], dtype=torch.float)\n",
    "print( x )\n",
    "print( x.dtype )\n",
    "y = x.type(torch.int) \n",
    "print( y )\n",
    "print( y.dtype )"
   ]
  },
  {
   "cell_type": "code",
   "execution_count": null,
   "metadata": {
    "colab": {
     "base_uri": "https://localhost:8080/"
    },
    "id": "GijOQ1MOK7nA",
    "outputId": "74ce260a-977d-4ad4-8554-98df702f5647"
   },
   "outputs": [
    {
     "name": "stdout",
     "output_type": "stream",
     "text": [
      "tensor([1., 2., 3., 4.])\n",
      "torch.float32\n",
      "tensor([1, 2, 3, 4], dtype=torch.int16)\n",
      "torch.int16\n"
     ]
    }
   ],
   "source": [
    "# you can even specify the type with \"string\" not object\n",
    "x = torch.tensor( [1, 2, 3, 4], dtype=torch.float)\n",
    "print( x )\n",
    "print( x.dtype )\n",
    "OUR_TYPE = \"torch.ShortTensor\"\n",
    "y = x.type(OUR_TYPE)  # <-- string !!\n",
    "print( y )\n",
    "print( y.dtype )"
   ]
  },
  {
   "cell_type": "markdown",
   "metadata": {
    "id": "N3UpJe_VK7nA"
   },
   "source": [
    "**Check :** the string type-name is from \"LEGACY CONSTRUCTUR\" of pytorch tensor (see above figure ) "
   ]
  },
  {
   "cell_type": "markdown",
   "metadata": {
    "id": "fpsgZticK7nB"
   },
   "source": [
    "## Tensor Shape"
   ]
  },
  {
   "cell_type": "markdown",
   "metadata": {
    "id": "rFeWb3F4K7nC"
   },
   "source": [
    "Tensor is a n-dimensional array. Therefore, check and set the shape of tensor are fundamental and cruical operations for handling tensor. Shape operation might be your best and useful tool for deep learning. \n",
    "\n",
    "In here, we will check elemenary shape operations. Some of the advanced topics will be convered in the later of this lecture. \n",
    "We will see \n",
    "- Check shape\n",
    "- Reshape"
   ]
  },
  {
   "cell_type": "code",
   "execution_count": null,
   "metadata": {
    "colab": {
     "base_uri": "https://localhost:8080/"
    },
    "id": "cT6MJWupK7nC",
    "outputId": "c4015945-09b9-4277-97b4-9a8abadb0cc3"
   },
   "outputs": [
    {
     "name": "stdout",
     "output_type": "stream",
     "text": [
      "tensor([[1, 2, 3],\n",
      "        [4, 5, 6]])\n",
      "torch.Size([2, 3])\n"
     ]
    }
   ],
   "source": [
    "# check shape\n",
    "x = torch.tensor( [ [1,2,3],\n",
    "                    [4,5,6]\n",
    "                  ] )\n",
    "print(x)\n",
    "print(x.shape) "
   ]
  },
  {
   "cell_type": "code",
   "execution_count": null,
   "metadata": {
    "colab": {
     "base_uri": "https://localhost:8080/"
    },
    "id": "u2GfFuavK7nD",
    "outputId": "84da1e7b-e23a-4d5e-b153-c4827dfbc3f7"
   },
   "outputs": [
    {
     "name": "stdout",
     "output_type": "stream",
     "text": [
      "batch size : 2\n",
      "1st dimension :  3\n"
     ]
    }
   ],
   "source": [
    "# you can also get the values of each dimension\n",
    "# 보통  tensor 첫번째 디멘션으로 batch size를 사용함\n",
    "batch_size, dim_1 = x.shape\n",
    "print( \"batch size :\", batch_size )\n",
    "print( \"1st dimension : \", dim_1 )"
   ]
  },
  {
   "cell_type": "code",
   "execution_count": null,
   "metadata": {
    "colab": {
     "base_uri": "https://localhost:8080/"
    },
    "id": "5wn8vTIgK7nD",
    "outputId": "f6379bd9-61ff-40a9-9430-4c938dd07e64"
   },
   "outputs": [
    {
     "name": "stdout",
     "output_type": "stream",
     "text": [
      "Original :  torch.Size([2, 3])\n",
      "Reshaped :  torch.Size([3, 2])\n",
      "Reshaped :  torch.Size([1, 6])\n",
      "Reshaped :  torch.Size([6, 1])\n",
      "tensor([[1, 2, 3],\n",
      "        [4, 5, 6]])\n",
      "-----\n",
      "tensor([1, 2, 3, 4, 5, 6])\n"
     ]
    }
   ],
   "source": [
    "# by \"RESHAPE\", you can change tensor shape whatever you want. \n",
    "print(\"Original : \" , x.shape )\n",
    "print(\"Reshaped : \" , x.reshape([3,2]).shape ) # <-- check the result\n",
    "print(\"Reshaped : \" , x.reshape([1,6]).shape ) # <-- check the result\n",
    "print(\"Reshaped : \" , x.reshape([6,1]).shape ) # <-- check the result\n",
    "\n",
    "print(x)\n",
    "print(\"-----\")\n",
    "print(x.reshape([6]))\n",
    "\n"
   ]
  },
  {
   "cell_type": "code",
   "execution_count": null,
   "metadata": {
    "colab": {
     "base_uri": "https://localhost:8080/"
    },
    "id": "1hkaoblsK7nE",
    "outputId": "cc9d0975-a886-44b1-f86f-950052e1403e"
   },
   "outputs": [
    {
     "name": "stdout",
     "output_type": "stream",
     "text": [
      "Original :  torch.Size([2, 3])\n",
      "Reshaped :  torch.Size([6, 1])\n"
     ]
    }
   ],
   "source": [
    "# but reshape is only allowed when the total size is same. \n",
    "print(\"Original : \" , x.shape )\n",
    "print(\"Reshaped : \" , x.reshape([6,1]).shape ) # <-- it will cause 'ERROR' "
   ]
  },
  {
   "cell_type": "markdown",
   "metadata": {
    "id": "cPaTjqQJK7nE"
   },
   "source": [
    "#### (ADVANCED) reshape and view "
   ]
  },
  {
   "cell_type": "markdown",
   "metadata": {
    "id": "x9X4N6d-K7nF"
   },
   "source": [
    "Pytorch support 'view' function for shaping operation. The functionality is almost same as reshape, but the memory usuage is different. \n",
    "\n",
    "Following description is from pytorch document."
   ]
  },
  {
   "cell_type": "code",
   "execution_count": null,
   "metadata": {
    "colab": {
     "base_uri": "https://localhost:8080/"
    },
    "id": "BpGsJJB4K7nF",
    "outputId": "1cc71f9e-3110-4b54-a26a-149b0b57dd69"
   },
   "outputs": [
    {
     "name": "stdout",
     "output_type": "stream",
     "text": [
      "x : torch.Size([4, 4])\n",
      "y : torch.Size([16])\n",
      "z : torch.Size([2, 8])\n"
     ]
    }
   ],
   "source": [
    "x = torch.randn(4, 4)\n",
    "print( \"x :\", x.size() )\n",
    "y = x.view(16)\n",
    "print( \"y :\", y.size() ) \n",
    "z = x.view(-1, 8)  # the size -1 is inferred from other dimensions\n",
    "print( \"z :\", z.size() )"
   ]
  },
  {
   "cell_type": "markdown",
   "metadata": {
    "id": "PnEw1q19K7nF"
   },
   "source": [
    "View is a just mirror of data with another shpae. So, it does not change data it self. "
   ]
  },
  {
   "cell_type": "code",
   "execution_count": null,
   "metadata": {
    "colab": {
     "base_uri": "https://localhost:8080/"
    },
    "id": "bz2EWOv1K7nF",
    "outputId": "73c95c5c-ada7-405b-9151-fb1bbe5a1b86"
   },
   "outputs": [
    {
     "name": "stdout",
     "output_type": "stream",
     "text": [
      "tensor([[[ 1,  2,  3,  4],\n",
      "         [ 5,  6,  7,  8]],\n",
      "\n",
      "        [[11, 12, 13, 14],\n",
      "         [15, 16, 17, 18]],\n",
      "\n",
      "        [[21, 22, 23, 24],\n",
      "         [25, 26, 27, 28]]])\n",
      "a :  torch.Size([3, 2, 4])\n",
      "tensor([[[ 1,  2],\n",
      "         [ 3,  4],\n",
      "         [ 5,  6],\n",
      "         [ 7,  8]],\n",
      "\n",
      "        [[11, 12],\n",
      "         [13, 14],\n",
      "         [15, 16],\n",
      "         [17, 18]],\n",
      "\n",
      "        [[21, 22],\n",
      "         [23, 24],\n",
      "         [25, 26],\n",
      "         [27, 28]]])\n"
     ]
    }
   ],
   "source": [
    "# [3, 2, 4] -> [3, 4, 2]\n",
    "a = torch.tensor( [\n",
    "                        [\n",
    "                            [ 1, 2, 3, 4 ], \n",
    "                            [ 5, 6, 7, 8 ], \n",
    "                        ],\n",
    "                        [\n",
    "                            [ 11, 12, 13, 14 ], \n",
    "                            [ 15, 16, 17, 18 ], \n",
    "                        ],\n",
    "                        [\n",
    "                            [ 21, 22, 23, 24 ], \n",
    "                            [ 25, 26, 27, 28 ], \n",
    "                        ],\n",
    "                    ]\n",
    "                  )\n",
    "print( a )\n",
    "print( \"a : \", a.size() )\n",
    "b = a.view(3, 4, 2)  # change shape\n",
    "print(b)"
   ]
  },
  {
   "cell_type": "markdown",
   "metadata": {
    "id": "9hVq5dqfK7nG"
   },
   "source": [
    "Let's change the original data"
   ]
  },
  {
   "cell_type": "code",
   "execution_count": null,
   "metadata": {
    "colab": {
     "base_uri": "https://localhost:8080/"
    },
    "id": "voHIQ5KkK7nG",
    "outputId": "0c532a06-3932-4fc8-ca6d-c7e58524eb79"
   },
   "outputs": [
    {
     "name": "stdout",
     "output_type": "stream",
     "text": [
      "tensor([[[ 1,  2,  3,  4],\n",
      "         [ 5,  6,  7,  8]],\n",
      "\n",
      "        [[11, 12, 13, 14],\n",
      "         [15, 16, 17, 18]],\n",
      "\n",
      "        [[21, 22, 23, 24],\n",
      "         [25, 26, 27, 28]]])\n",
      "tensor([[11, 12, 13, 14],\n",
      "        [15, 16, 17, 18]])\n",
      "[before change]\n",
      "b :  tensor([[[ 1,  2],\n",
      "         [ 3,  4],\n",
      "         [ 5,  6],\n",
      "         [ 7,  8]],\n",
      "\n",
      "        [[11, 12],\n",
      "         [13, 14],\n",
      "         [15, 16],\n",
      "         [17, 18]],\n",
      "\n",
      "        [[21, 22],\n",
      "         [23, 24],\n",
      "         [25, 26],\n",
      "         [27, 28]]])\n",
      "---------------- \n",
      "tensor([[[ 1,  2,  3,  4],\n",
      "         [ 5,  6,  7,  8]],\n",
      "\n",
      "        [[51, 52, 53, 54],\n",
      "         [55, 56, 57, 58]],\n",
      "\n",
      "        [[21, 22, 23, 24],\n",
      "         [25, 26, 27, 28]]])\n",
      "[after change]\n",
      "b :  tensor([[[ 1,  2],\n",
      "         [ 3,  4],\n",
      "         [ 5,  6],\n",
      "         [ 7,  8]],\n",
      "\n",
      "        [[51, 52],\n",
      "         [53, 54],\n",
      "         [55, 56],\n",
      "         [57, 58]],\n",
      "\n",
      "        [[21, 22],\n",
      "         [23, 24],\n",
      "         [25, 26],\n",
      "         [27, 28]]])\n"
     ]
    }
   ],
   "source": [
    "a = torch.tensor( [\n",
    "                        [\n",
    "                            [ 1, 2, 3, 4 ], \n",
    "                            [ 5, 6, 7, 8 ], \n",
    "                        ],\n",
    "                        [\n",
    "                            [ 11, 12, 13, 14 ], \n",
    "                            [ 15, 16, 17, 18 ], \n",
    "                        ],\n",
    "                        [\n",
    "                            [ 21, 22, 23, 24 ], \n",
    "                            [ 25, 26, 27, 28 ], \n",
    "                        ],\n",
    "                    ]\n",
    "                  )\n",
    "print(a)\n",
    "print(a[1])\n",
    "b = a.view(3, 4, 2)  # change shape\n",
    "print(\"[before change]\")\n",
    "print(\"b : \", b)\n",
    "print( \"---------------- \")\n",
    "a[1] = torch.tensor( [[51, 52, 53, 54],\n",
    "                     [55, 56, 57, 58]] ) # <-- assign new value\n",
    "print(a)\n",
    "print(\"[after change]\")\n",
    "print(\"b : \", b)"
   ]
  },
  {
   "cell_type": "code",
   "execution_count": null,
   "metadata": {
    "colab": {
     "base_uri": "https://localhost:8080/"
    },
    "id": "wCqZNwT1K7nH",
    "outputId": "200f0001-f784-48b5-c651-ae26ffd51e69"
   },
   "outputs": [
    {
     "name": "stdout",
     "output_type": "stream",
     "text": [
      "tensor([[[ 1,  2],\n",
      "         [ 3,  4],\n",
      "         [ 5,  6],\n",
      "         [ 7,  8]],\n",
      "\n",
      "        [[51, 52],\n",
      "         [53, 54],\n",
      "         [55, 56],\n",
      "         [57, 58]],\n",
      "\n",
      "        [[21, 22],\n",
      "         [23, 24],\n",
      "         [25, 26],\n",
      "         [27, 28]]])\n"
     ]
    }
   ],
   "source": [
    "print(b)"
   ]
  },
  {
   "cell_type": "markdown",
   "metadata": {
    "id": "XOQTolhWK7nH"
   },
   "source": [
    "Let's try to change value in 'viewed' tensor. "
   ]
  },
  {
   "cell_type": "code",
   "execution_count": null,
   "metadata": {
    "colab": {
     "base_uri": "https://localhost:8080/"
    },
    "id": "_vnmeCyCK7nH",
    "outputId": "2e56afae-a8e0-46f0-f855-ba604d88f438"
   },
   "outputs": [
    {
     "name": "stdout",
     "output_type": "stream",
     "text": [
      "tensor([[[  1,   2,   3,   4],\n",
      "         [  5,   6,   7,   8]],\n",
      "\n",
      "        [[151, 152, 153, 154],\n",
      "         [155, 156, 157, 158]],\n",
      "\n",
      "        [[ 21,  22,  23,  24],\n",
      "         [ 25,  26,  27,  28]]])\n"
     ]
    }
   ],
   "source": [
    "b[1] = torch.tensor([[151, 152],\n",
    "                    [153, 154],\n",
    "                    [155, 156],\n",
    "                    [157, 158]])\n",
    "print(a)"
   ]
  },
  {
   "cell_type": "markdown",
   "metadata": {
    "id": "BFdr-VorK7nI"
   },
   "source": [
    "## Tensor Device Change\n",
    "\n",
    "PyTorch support GPU calcualtion. We can transfer data in CPU to GPU or vice versa.\n",
    " - CPU to GPU\n",
    " - GPU to CPU\n",
    " \n",
    "**NOTE** You need 'GPU' to run the following section. \n",
    "\n",
    "\n",
    "google -- colab "
   ]
  },
  {
   "cell_type": "code",
   "execution_count": null,
   "metadata": {
    "colab": {
     "base_uri": "https://localhost:8080/"
    },
    "id": "6xaHNvr1K7nI",
    "outputId": "bde7f1e1-a0a8-4cda-dc76-a0a88169a5d9"
   },
   "outputs": [
    {
     "name": "stdout",
     "output_type": "stream",
     "text": [
      "tensor([1, 2, 3, 4], device='cuda:0')\n",
      "cuda:0\n",
      "tensor([1, 2, 3, 4])\n",
      "cpu\n",
      "tensor([1, 2, 3, 4])\n",
      "cpu\n"
     ]
    }
   ],
   "source": [
    "#CPU to GPU @ creation\n",
    "a = torch.tensor([1,2,3,4], device='cuda')\n",
    "print(a)\n",
    "print(a.device)\n",
    "\n",
    "b = torch.tensor([1,2,3,4], device='cpu')\n",
    "print(b)\n",
    "print(b.device)\n",
    "c = torch.tensor([1,2,3,4]) # <-- default device : cpu \n",
    "print(c)\n",
    "print(c.device)"
   ]
  },
  {
   "cell_type": "code",
   "execution_count": null,
   "metadata": {
    "colab": {
     "base_uri": "https://localhost:8080/"
    },
    "id": "bXRmlRpzK7nI",
    "outputId": "552d49e8-1686-4660-952d-7f8896d80e3d"
   },
   "outputs": [
    {
     "name": "stdout",
     "output_type": "stream",
     "text": [
      "tensor([1, 2, 3, 4])\n",
      "cpu\n",
      "tensor([1, 2, 3, 4], device='cuda:0')\n",
      "cuda:0\n",
      "----------try to change b-----------\n",
      "a:  tensor([1, 2, 3, 4])\n",
      "b:  tensor([ 1,  2,  3, 14], device='cuda:0')\n"
     ]
    }
   ],
   "source": [
    "#CPU to GPU @ after creation\n",
    "a = torch.tensor([1,2,3,4])\n",
    "print(a)\n",
    "print(a.device)\n",
    "b = a.to('cuda') # <--- .to( ~~~ ) \n",
    "print(b)\n",
    "print(b.device)\n",
    "print(\"----------try to change b-----------\")\n",
    "b[3] = 14\n",
    "print(\"a: \", a)\n",
    "print(\"b: \", b) # <-- you will see a and b are not same object any more\n"
   ]
  },
  {
   "cell_type": "markdown",
   "metadata": {
    "id": "-0kpgkGJK7nJ"
   },
   "source": [
    "## Tensor @ GPU data to CPU data \n",
    "\n",
    "We need some operations to fetch GPU data to CPU area. \n",
    " - GPU data to CPU\n",
    "     - torch.tensor @GPU --> torch.tensor @CPU --> python object @CPU\n",
    "     - torch.tensor @GPU --> torch.tensor @CPU --> numpy object  @CPU"
   ]
  },
  {
   "cell_type": "code",
   "execution_count": null,
   "metadata": {
    "colab": {
     "base_uri": "https://localhost:8080/"
    },
    "id": "fSVfLTnoK7nJ",
    "outputId": "31e4cb57-0002-4ad0-c732-89ebeeedfbdf"
   },
   "outputs": [
    {
     "name": "stdout",
     "output_type": "stream",
     "text": [
      "tensor([[[ 1,  2,  3,  4],\n",
      "         [ 5,  6,  7,  8]],\n",
      "\n",
      "        [[11, 12, 13, 14],\n",
      "         [15, 16, 17, 18]],\n",
      "\n",
      "        [[21, 22, 23, 24],\n",
      "         [25, 26, 27, 28]]], device='cuda:0')\n",
      "cuda:0\n"
     ]
    }
   ],
   "source": [
    "a = torch.tensor( [\n",
    "                        [\n",
    "                            [ 1, 2, 3, 4 ], \n",
    "                            [ 5, 6, 7, 8 ], \n",
    "                        ],\n",
    "                        [\n",
    "                            [ 11, 12, 13, 14 ], \n",
    "                            [ 15, 16, 17, 18 ], \n",
    "                        ],\n",
    "                        [\n",
    "                            [ 21, 22, 23, 24 ], \n",
    "                            [ 25, 26, 27, 28 ], \n",
    "                        ],\n",
    "                    ]\n",
    "                  ).to('cuda') # <-- GPU\n",
    "print(a)\n",
    "print(a.device)"
   ]
  },
  {
   "cell_type": "code",
   "execution_count": null,
   "metadata": {
    "colab": {
     "base_uri": "https://localhost:8080/"
    },
    "id": "P-DDAwlgK7nJ",
    "outputId": "7b801bee-7aad-40f3-f611-4f87bb9f22dc"
   },
   "outputs": [
    {
     "name": "stdout",
     "output_type": "stream",
     "text": [
      "tensor([[[ 1,  2,  3,  4],\n",
      "         [ 5,  6,  7,  8]],\n",
      "\n",
      "        [[11, 12, 13, 14],\n",
      "         [15, 16, 17, 18]],\n",
      "\n",
      "        [[21, 22, 23, 24],\n",
      "         [25, 26, 27, 28]]])\n",
      "<class 'torch.Tensor'>\n"
     ]
    }
   ],
   "source": [
    "b = a.cpu()\n",
    "print(b)\n",
    "print(type(b))   # <-- torch.tensor @CPU"
   ]
  },
  {
   "cell_type": "code",
   "execution_count": null,
   "metadata": {
    "colab": {
     "base_uri": "https://localhost:8080/"
    },
    "id": "xwsmm0XlK7nK",
    "outputId": "86802002-89ab-40df-d350-a8b648ccb227"
   },
   "outputs": [
    {
     "name": "stdout",
     "output_type": "stream",
     "text": [
      "[[[1, 2, 3, 4], [5, 6, 7, 8]], [[11, 12, 13, 14], [15, 16, 17, 18]], [[21, 22, 23, 24], [25, 26, 27, 28]]]\n",
      "<class 'list'>\n"
     ]
    }
   ],
   "source": [
    "c = b.tolist()   # CPU torch.tensor --> python object\n",
    "print(c)\n",
    "print(type(c))"
   ]
  },
  {
   "cell_type": "code",
   "execution_count": null,
   "metadata": {
    "colab": {
     "base_uri": "https://localhost:8080/"
    },
    "id": "frMgsAfDK7nK",
    "outputId": "330caa5c-4341-488d-e814-0d30b0a302b3"
   },
   "outputs": [
    {
     "name": "stdout",
     "output_type": "stream",
     "text": [
      "[[[ 1  2  3  4]\n",
      "  [ 5  6  7  8]]\n",
      "\n",
      " [[11 12 13 14]\n",
      "  [15 16 17 18]]\n",
      "\n",
      " [[21 22 23 24]\n",
      "  [25 26 27 28]]]\n",
      "<class 'numpy.ndarray'>\n"
     ]
    }
   ],
   "source": [
    "c = b.numpy()   # CPU torch.tensor --> numpy object\n",
    "print(c)\n",
    "print(type(c))"
   ]
  },
  {
   "cell_type": "code",
   "execution_count": null,
   "metadata": {
    "colab": {
     "base_uri": "https://localhost:8080/"
    },
    "id": "uVhf_06HK7nK",
    "outputId": "45a8e2b4-e109-446a-883c-2d68f42e3e51"
   },
   "outputs": [
    {
     "name": "stdout",
     "output_type": "stream",
     "text": [
      "[[[ 1  2  3  4]\n",
      "  [ 5  6  7  8]]\n",
      "\n",
      " [[11 12 13 14]\n",
      "  [15 16 17 18]]\n",
      "\n",
      " [[21 22 23 24]\n",
      "  [25 26 27 28]]]\n",
      "<class 'numpy.ndarray'>\n"
     ]
    }
   ],
   "source": [
    "# one liner\n",
    "c = a.cpu().numpy()\n",
    "print(c)\n",
    "print(type(c))"
   ]
  },
  {
   "cell_type": "markdown",
   "metadata": {
    "id": "TfEvp6lmK7nL"
   },
   "source": [
    "When we want to get scalar value directly, there is item() funtion. "
   ]
  },
  {
   "cell_type": "code",
   "execution_count": null,
   "metadata": {
    "colab": {
     "base_uri": "https://localhost:8080/"
    },
    "id": "8Dp7xCCcK7nL",
    "outputId": "dc572502-f5ab-4e1e-b1fd-c7aa2ab74c65"
   },
   "outputs": [
    {
     "name": "stdout",
     "output_type": "stream",
     "text": [
      "tensor([1, 2, 3, 4], device='cuda:0')\n",
      "cuda:0\n"
     ]
    }
   ],
   "source": [
    "a = torch.tensor( [1,2,3,4], device='cuda')\n",
    "print(a)\n",
    "print(a.device)"
   ]
  },
  {
   "cell_type": "code",
   "execution_count": null,
   "metadata": {
    "colab": {
     "base_uri": "https://localhost:8080/",
     "height": 176
    },
    "id": "GKzFue-2K7nM",
    "outputId": "dee6a0ec-aa72-43b2-e3df-6c45e2c7a6ee"
   },
   "outputs": [
    {
     "ename": "ValueError",
     "evalue": "ignored",
     "output_type": "error",
     "traceback": [
      "\u001b[0;31m---------------------------------------------------------------------------\u001b[0m",
      "\u001b[0;31mValueError\u001b[0m                                Traceback (most recent call last)",
      "\u001b[0;32m<ipython-input-46-7844d80a2c4c>\u001b[0m in \u001b[0;36m<module>\u001b[0;34m()\u001b[0m\n\u001b[0;32m----> 1\u001b[0;31m \u001b[0ma\u001b[0m\u001b[0;34m.\u001b[0m\u001b[0mitem\u001b[0m\u001b[0;34m(\u001b[0m\u001b[0;34m)\u001b[0m  \u001b[0;31m# <-- it will cause ERROR -- since item() support only scalars\u001b[0m\u001b[0;34m\u001b[0m\u001b[0;34m\u001b[0m\u001b[0m\n\u001b[0m",
      "\u001b[0;31mValueError\u001b[0m: only one element tensors can be converted to Python scalars"
     ]
    }
   ],
   "source": [
    "a.item()  # <-- it will cause ERROR -- since item() support only scalars"
   ]
  },
  {
   "cell_type": "code",
   "execution_count": null,
   "metadata": {
    "colab": {
     "base_uri": "https://localhost:8080/"
    },
    "id": "2T0a3Ak-K7nM",
    "outputId": "c45a19e0-94f6-4857-a8bd-003b9b3eae1c"
   },
   "outputs": [
    {
     "name": "stdout",
     "output_type": "stream",
     "text": [
      "tensor([1], device='cuda:0')\n",
      "cuda:0\n",
      "-----\n",
      "1\n",
      "<class 'int'>\n"
     ]
    }
   ],
   "source": [
    "a = torch.tensor( [1], device='cuda')\n",
    "print(a)\n",
    "print(a.device)\n",
    "print(\"-----\")\n",
    "b = a.item()  \n",
    "print(b)\n",
    "print(type(b)) # <- python object type"
   ]
  },
  {
   "cell_type": "code",
   "execution_count": null,
   "metadata": {
    "colab": {
     "base_uri": "https://localhost:8080/"
    },
    "id": "0r5g-8yJK7nM",
    "outputId": "2332514a-c8e1-4854-97e7-e8cfb09728c0"
   },
   "outputs": [
    {
     "name": "stdout",
     "output_type": "stream",
     "text": [
      "tensor(101.3434, device='cuda:0')\n",
      "cuda:0\n",
      "-----\n",
      "101.34339904785156\n",
      "<class 'float'>\n"
     ]
    }
   ],
   "source": [
    "a = torch.tensor(101.3434, device='cuda')\n",
    "print(a)\n",
    "print(a.device)\n",
    "print(\"-----\")\n",
    "b = a.item()  \n",
    "print(b)\n",
    "print(type(b)) # <- python object type"
   ]
  },
  {
   "cell_type": "markdown",
   "metadata": {
    "id": "5apeXj2qK7nN"
   },
   "source": [
    "## 1 to N Operations\n",
    "a Tensor → a list of Tensors "
   ]
  },
  {
   "cell_type": "code",
   "execution_count": null,
   "metadata": {
    "colab": {
     "base_uri": "https://localhost:8080/"
    },
    "id": "pM7KVHxrK7nN",
    "outputId": "cbe1fd92-80c0-4723-959c-722417cb5338"
   },
   "outputs": [
    {
     "name": "stdout",
     "output_type": "stream",
     "text": [
      "tensor([[[ 1,  2,  3,  4],\n",
      "         [ 5,  6,  7,  8]],\n",
      "\n",
      "        [[11, 12, 13, 14],\n",
      "         [15, 16, 17, 18]],\n",
      "\n",
      "        [[21, 22, 23, 24],\n",
      "         [25, 26, 27, 28]]])\n",
      "torch.Size([3, 2, 4])\n"
     ]
    }
   ],
   "source": [
    "a = torch.tensor( [\n",
    "                        [\n",
    "                            [ 1, 2, 3, 4 ], \n",
    "                            [ 5, 6, 7, 8 ], \n",
    "                        ],\n",
    "                        [\n",
    "                            [ 11, 12, 13, 14 ], \n",
    "                            [ 15, 16, 17, 18 ], \n",
    "                        ],\n",
    "                        [\n",
    "                            [ 21, 22, 23, 24 ], \n",
    "                            [ 25, 26, 27, 28 ], \n",
    "                        ],\n",
    "                  ]\n",
    "                  )\n",
    "print(a)\n",
    "print(a.shape)"
   ]
  },
  {
   "cell_type": "markdown",
   "metadata": {
    "id": "T4GGUgAQK7nO"
   },
   "source": [
    "Let's split the data with 3 parts  \n",
    "chunk operation\n"
   ]
  },
  {
   "cell_type": "code",
   "execution_count": null,
   "metadata": {
    "colab": {
     "base_uri": "https://localhost:8080/"
    },
    "id": "E5kSY1GgK7nO",
    "outputId": "bcde4065-d3ad-4849-af12-b0b87ed314d3"
   },
   "outputs": [
    {
     "name": "stdout",
     "output_type": "stream",
     "text": [
      "(tensor([[[1, 2, 3, 4],\n",
      "         [5, 6, 7, 8]]]), tensor([[[11, 12, 13, 14],\n",
      "         [15, 16, 17, 18]]]), tensor([[[21, 22, 23, 24],\n",
      "         [25, 26, 27, 28]]]))\n",
      "tensor([[[1, 2, 3, 4],\n",
      "         [5, 6, 7, 8]]])\n"
     ]
    }
   ],
   "source": [
    "a_l_tensors = torch.chunk(a, chunks=3, dim=0) # return a list of tensor\n",
    "print(a_l_tensors)\n",
    "print(a_l_tensors[0])"
   ]
  },
  {
   "cell_type": "code",
   "execution_count": null,
   "metadata": {
    "colab": {
     "base_uri": "https://localhost:8080/"
    },
    "id": "BfmXvrkiK7nO",
    "outputId": "170d3893-c14d-40fa-c135-569f01fd8083"
   },
   "outputs": [
    {
     "name": "stdout",
     "output_type": "stream",
     "text": [
      "(tensor([[[ 1],\n",
      "         [ 5]],\n",
      "\n",
      "        [[11],\n",
      "         [15]],\n",
      "\n",
      "        [[21],\n",
      "         [25]]]), tensor([[[ 2],\n",
      "         [ 6]],\n",
      "\n",
      "        [[12],\n",
      "         [16]],\n",
      "\n",
      "        [[22],\n",
      "         [26]]]), tensor([[[ 3],\n",
      "         [ 7]],\n",
      "\n",
      "        [[13],\n",
      "         [17]],\n",
      "\n",
      "        [[23],\n",
      "         [27]]]), tensor([[[ 4],\n",
      "         [ 8]],\n",
      "\n",
      "        [[14],\n",
      "         [18]],\n",
      "\n",
      "        [[24],\n",
      "         [28]]]))\n",
      "tensor([[[ 2],\n",
      "         [ 6]],\n",
      "\n",
      "        [[12],\n",
      "         [16]],\n",
      "\n",
      "        [[22],\n",
      "         [26]]])\n"
     ]
    }
   ],
   "source": [
    "print(  torch.chunk(a, chunks=4, dim=-1)  ) # return a list of tensor\n",
    "print(  torch.chunk(a, chunks=4, dim=-1)[1]  )"
   ]
  },
  {
   "cell_type": "markdown",
   "metadata": {
    "id": "FmIRh8JRK7nP"
   },
   "source": [
    "## N to 1 Operations\n",
    "a list of Tensors →  a Tensor \n",
    "- by cat\n",
    "- by stack"
   ]
  },
  {
   "cell_type": "code",
   "execution_count": null,
   "metadata": {
    "colab": {
     "base_uri": "https://localhost:8080/"
    },
    "id": "97fZAaxnK7nP",
    "outputId": "ca8d6b2b-79f0-43a3-e790-74f8c3c8d5ab"
   },
   "outputs": [
    {
     "name": "stdout",
     "output_type": "stream",
     "text": [
      "(tensor([[[1, 2, 3, 4],\n",
      "         [5, 6, 7, 8]]]), tensor([[[11, 12, 13, 14],\n",
      "         [15, 16, 17, 18]]]), tensor([[[21, 22, 23, 24],\n",
      "         [25, 26, 27, 28]]]))\n",
      "torch.Size([1, 2, 4])\n"
     ]
    }
   ],
   "source": [
    "print(a_l_tensors)\n",
    "print(a_l_tensors[0].shape)"
   ]
  },
  {
   "cell_type": "code",
   "execution_count": null,
   "metadata": {
    "colab": {
     "base_uri": "https://localhost:8080/"
    },
    "id": "rCbMn4DMK7nQ",
    "outputId": "92f970ea-e743-4355-cc93-a71dbcab4d0c"
   },
   "outputs": [
    {
     "name": "stdout",
     "output_type": "stream",
     "text": [
      "tensor([[[ 1,  2,  3,  4],\n",
      "         [ 5,  6,  7,  8]],\n",
      "\n",
      "        [[11, 12, 13, 14],\n",
      "         [15, 16, 17, 18]],\n",
      "\n",
      "        [[21, 22, 23, 24],\n",
      "         [25, 26, 27, 28]]])\n",
      "torch.Size([3, 2, 4])\n"
     ]
    }
   ],
   "source": [
    "b = torch.cat(a_l_tensors)  #컨케트네이트\n",
    "print(b)\n",
    "print(b.shape) # <-- You will see recovered shape of a"
   ]
  },
  {
   "cell_type": "code",
   "execution_count": null,
   "metadata": {
    "colab": {
     "base_uri": "https://localhost:8080/"
    },
    "id": "lU_z10dlK7nQ",
    "outputId": "e340126e-3f0f-4e57-f11b-aa261789816a"
   },
   "outputs": [
    {
     "name": "stdout",
     "output_type": "stream",
     "text": [
      "tensor([[[ 1,  2,  3,  4],\n",
      "         [ 5,  6,  7,  8],\n",
      "         [11, 12, 13, 14],\n",
      "         [15, 16, 17, 18],\n",
      "         [21, 22, 23, 24],\n",
      "         [25, 26, 27, 28]]])\n",
      "torch.Size([1, 6, 4])\n"
     ]
    }
   ],
   "source": [
    "# but you can concatenate in differnt ways\n",
    "c = torch.cat(a_l_tensors, dim=1)\n",
    "print(c)\n",
    "print(c.shape) # <-- You will see different shape"
   ]
  },
  {
   "cell_type": "code",
   "execution_count": null,
   "metadata": {
    "colab": {
     "base_uri": "https://localhost:8080/"
    },
    "id": "ihaItyFnK7nQ",
    "outputId": "e514a267-a96e-48ef-d825-4c62bfeb792f"
   },
   "outputs": [
    {
     "name": "stdout",
     "output_type": "stream",
     "text": [
      "tensor([[[ 1,  2,  3,  4, 11, 12, 13, 14, 21, 22, 23, 24],\n",
      "         [ 5,  6,  7,  8, 15, 16, 17, 18, 25, 26, 27, 28]]])\n",
      "torch.Size([1, 2, 12])\n"
     ]
    }
   ],
   "source": [
    "# but you can concatenate in differnt ways\n",
    "d = torch.cat(a_l_tensors, dim=2)\n",
    "print(d)\n",
    "print(d.shape) # <-- You will see different shape"
   ]
  },
  {
   "cell_type": "markdown",
   "metadata": {
    "id": "7jNg5ZmbK7nR"
   },
   "source": [
    "stack works little bit differently. "
   ]
  },
  {
   "cell_type": "code",
   "execution_count": null,
   "metadata": {
    "colab": {
     "base_uri": "https://localhost:8080/"
    },
    "id": "pA5R4XDwK7nR",
    "outputId": "7bf2a6f3-4d0b-48b4-c417-061ec592a871"
   },
   "outputs": [
    {
     "name": "stdout",
     "output_type": "stream",
     "text": [
      "original shape of a :  torch.Size([3, 2, 4])\n",
      "(tensor([[[1, 2, 3, 4],\n",
      "         [5, 6, 7, 8]]]), tensor([[[11, 12, 13, 14],\n",
      "         [15, 16, 17, 18]]]), tensor([[[21, 22, 23, 24],\n",
      "         [25, 26, 27, 28]]]))\n",
      " ---------- \n",
      "tensor([[[[ 1,  2,  3,  4],\n",
      "          [ 5,  6,  7,  8]]],\n",
      "\n",
      "\n",
      "        [[[11, 12, 13, 14],\n",
      "          [15, 16, 17, 18]]],\n",
      "\n",
      "\n",
      "        [[[21, 22, 23, 24],\n",
      "          [25, 26, 27, 28]]]])\n",
      "torch.Size([3, 1, 2, 4])\n"
     ]
    }
   ],
   "source": [
    "print(\"original shape of a : \", a.shape)\n",
    "print( a_l_tensors )\n",
    "print( \" ---------- \" ) \n",
    "e = torch.stack(a_l_tensors)\n",
    "print(e)\n",
    "print(e.shape) # <-- You will see another dimension at second "
   ]
  },
  {
   "cell_type": "markdown",
   "metadata": {
    "id": "jo7Da2izK7nS"
   },
   "source": [
    "## Dimension Operations\n",
    "\n",
    "We sometimes need manipulation dimension directly. There are many operations. \n",
    " - transpose\n",
    " - permutation \n",
    " - squeeze\n",
    " - unsqueeze "
   ]
  },
  {
   "cell_type": "code",
   "execution_count": null,
   "metadata": {
    "id": "ABdT2mbnK7nS"
   },
   "outputs": [],
   "source": [
    "# transpose "
   ]
  },
  {
   "cell_type": "code",
   "execution_count": null,
   "metadata": {
    "colab": {
     "base_uri": "https://localhost:8080/"
    },
    "id": "mtrjZos-K7nS",
    "outputId": "0d2eb202-de40-4a55-e1c7-47122dad113c"
   },
   "outputs": [
    {
     "name": "stdout",
     "output_type": "stream",
     "text": [
      "tensor([[[ 1,  2,  3,  4],\n",
      "         [ 5,  6,  7,  8]],\n",
      "\n",
      "        [[11, 12, 13, 14],\n",
      "         [15, 16, 17, 18]],\n",
      "\n",
      "        [[21, 22, 23, 24],\n",
      "         [25, 26, 27, 28]]])\n",
      "torch.Size([3, 2, 4])\n"
     ]
    }
   ],
   "source": [
    "a = torch.tensor( [\n",
    "                        [\n",
    "                            [ 1, 2, 3, 4 ], \n",
    "                            [ 5, 6, 7, 8 ], \n",
    "                        ],\n",
    "                        [\n",
    "                            [ 11, 12, 13, 14 ], \n",
    "                            [ 15, 16, 17, 18 ], \n",
    "                        ],\n",
    "                        [\n",
    "                            [ 21, 22, 23, 24 ], \n",
    "                            [ 25, 26, 27, 28 ], \n",
    "                        ],\n",
    "                  ]\n",
    "                  )\n",
    "print(a)\n",
    "print(a.shape)"
   ]
  },
  {
   "cell_type": "code",
   "execution_count": null,
   "metadata": {
    "colab": {
     "base_uri": "https://localhost:8080/"
    },
    "id": "tVS1dmZQK7nT",
    "outputId": "5c9fa6fd-8468-4c40-c2f2-55a4ce35117e"
   },
   "outputs": [
    {
     "name": "stdout",
     "output_type": "stream",
     "text": [
      "torch.Size([3, 2, 4])\n",
      "torch.Size([2, 3, 4])\n",
      "tensor([[[ 1,  2,  3,  4],\n",
      "         [11, 12, 13, 14],\n",
      "         [21, 22, 23, 24]],\n",
      "\n",
      "        [[ 5,  6,  7,  8],\n",
      "         [15, 16, 17, 18],\n",
      "         [25, 26, 27, 28]]])\n"
     ]
    }
   ],
   "source": [
    "print(a.shape)\n",
    "b = torch.transpose(a, 0, 1)  # 첫번째 디맨션(0)과, 2번째 디멘션(1) 스와핑\n",
    "print(b.shape)\n",
    "print(b)"
   ]
  },
  {
   "cell_type": "code",
   "execution_count": null,
   "metadata": {
    "colab": {
     "base_uri": "https://localhost:8080/"
    },
    "id": "lqzRkFLtK7nT",
    "outputId": "5eea8cd7-8737-42aa-ea72-3073d3774894"
   },
   "outputs": [
    {
     "name": "stdout",
     "output_type": "stream",
     "text": [
      "torch.Size([3, 2, 4])\n",
      "torch.Size([4, 2, 3])\n",
      "tensor([[[ 1, 11, 21],\n",
      "         [ 5, 15, 25]],\n",
      "\n",
      "        [[ 2, 12, 22],\n",
      "         [ 6, 16, 26]],\n",
      "\n",
      "        [[ 3, 13, 23],\n",
      "         [ 7, 17, 27]],\n",
      "\n",
      "        [[ 4, 14, 24],\n",
      "         [ 8, 18, 28]]])\n"
     ]
    }
   ],
   "source": [
    "print(a.shape)\n",
    "c = torch.transpose(a, 0, 2)\n",
    "print(c.shape)\n",
    "print(c)"
   ]
  },
  {
   "cell_type": "markdown",
   "metadata": {
    "id": "N5oSpqrNK7nT"
   },
   "source": [
    "You can also swap all the dimensions at once by **permutation()**.  \n",
    "위의 transpose는 2개의 axis를 스왑 할 수 있다  \n",
    "permutation은 원하는거 몇개든 스왑 할 수 있다."
   ]
  },
  {
   "cell_type": "code",
   "execution_count": null,
   "metadata": {
    "colab": {
     "base_uri": "https://localhost:8080/"
    },
    "id": "gUR4plQ7K7nU",
    "outputId": "b6985a5d-a90e-4ec4-ec23-5882713a8fae"
   },
   "outputs": [
    {
     "name": "stdout",
     "output_type": "stream",
     "text": [
      "Original shape of a  torch.Size([3, 2, 4])\n",
      "torch.Size([4, 3, 2])\n",
      "tensor([[[ 1,  5],\n",
      "         [11, 15],\n",
      "         [21, 25]],\n",
      "\n",
      "        [[ 2,  6],\n",
      "         [12, 16],\n",
      "         [22, 26]],\n",
      "\n",
      "        [[ 3,  7],\n",
      "         [13, 17],\n",
      "         [23, 27]],\n",
      "\n",
      "        [[ 4,  8],\n",
      "         [14, 18],\n",
      "         [24, 28]]])\n"
     ]
    }
   ],
   "source": [
    "print(\"Original shape of a \", a.shape)\n",
    "d = a.permute(2, 0, 1)\n",
    "print(d.shape)\n",
    "print(d)"
   ]
  },
  {
   "cell_type": "markdown",
   "metadata": {
    "id": "YhZ3pkxGK7nU"
   },
   "source": [
    "There are some differences between view, reshape, transpose, permuation in pytorch. \n",
    "Following descriptions are from the https://jdhao.github.io/2019/07/10/pytorch_view_reshape_transpose_permute/ .\n"
   ]
  },
  {
   "cell_type": "markdown",
   "metadata": {
    "id": "_NK_v1xqK7nU"
   },
   "source": [
    "- Both view() and reshape() can be used to change the size or shape of tensors. But they are slightly different.\n",
    "- torch.reshape may return a copy or a view of the original tensor\n",
    "- transpose(), like view() can also be used to change the shape of a tensor and it also returns a new tensor sharing the data with the original tensor\n",
    "- One difference is that view() can only operate on contiguous tensor and the returned tensor is still contiguous\n",
    "- \"Contiguous \" : the neighboring elements in the tensor are actually next to each other in memory.\n",
    "- permute() and tranpose() are similar. transpose() can only swap two dimension. But permute() can swap all the dimensions. "
   ]
  },
  {
   "cell_type": "markdown",
   "metadata": {
    "id": "fBqSu3eOK7nV"
   },
   "source": [
    "Dimension adding and deleting are supported by squeeze and unsqueeze easily. \n"
   ]
  },
  {
   "cell_type": "markdown",
   "metadata": {
    "id": "7XuXUjgwK7nV"
   },
   "source": [
    "#### Squeeze"
   ]
  },
  {
   "cell_type": "markdown",
   "metadata": {
    "id": "RNuCYnrcPZpt"
   },
   "source": [
    "### 엠티 디멘션  \n",
    "[1,2,3] -> (3,)  \n",
    "[[1,2,3]] -> (1,3)  \n",
    "두번째 예시 처럼 디멘션으로 하나를 추가하게되는데 다른 tensor와 비교하기 위해서 추가하는 것임  \n",
    "[[[1,2,3]]] -> (1,1,3)  "
   ]
  },
  {
   "cell_type": "code",
   "execution_count": null,
   "metadata": {
    "colab": {
     "base_uri": "https://localhost:8080/"
    },
    "id": "FBCklGVDK7nV",
    "outputId": "3129d397-224f-43d4-b5a4-049b36d9ffa9"
   },
   "outputs": [
    {
     "name": "stdout",
     "output_type": "stream",
     "text": [
      "torch.Size([2, 1, 2, 1, 2])\n"
     ]
    }
   ],
   "source": [
    "x = torch.zeros(2, 1, 2, 1, 2)\n",
    "print(x.shape)"
   ]
  },
  {
   "cell_type": "code",
   "execution_count": null,
   "metadata": {
    "colab": {
     "base_uri": "https://localhost:8080/"
    },
    "id": "l4Sr8HOrK7nV",
    "outputId": "1edd2e09-d003-41a3-dd04-8aff3c826159"
   },
   "outputs": [
    {
     "name": "stdout",
     "output_type": "stream",
     "text": [
      "torch.Size([2, 2, 2])\n"
     ]
    }
   ],
   "source": [
    "y = torch.squeeze(x)\n",
    "print(y.shape) # <-- you will see 1 (empty-dimension) is removed "
   ]
  },
  {
   "cell_type": "code",
   "execution_count": null,
   "metadata": {
    "colab": {
     "base_uri": "https://localhost:8080/"
    },
    "id": "M459M3PlK7nW",
    "outputId": "0fa4d9c5-a673-40dc-e14b-64d302eb76a9"
   },
   "outputs": [
    {
     "name": "stdout",
     "output_type": "stream",
     "text": [
      "torch.Size([2, 2, 1, 2])\n"
     ]
    }
   ],
   "source": [
    "# or you can specify the squeezing dimension\n",
    "y = torch.squeeze(x, 1)\n",
    "print(y.shape) # <-- you will see dim=1 is removed "
   ]
  },
  {
   "cell_type": "markdown",
   "metadata": {
    "id": "_CiB1i3DK7nW"
   },
   "source": [
    "#### Unsqueeze"
   ]
  },
  {
   "cell_type": "code",
   "execution_count": null,
   "metadata": {
    "colab": {
     "base_uri": "https://localhost:8080/"
    },
    "id": "1EoaRs3aK7nW",
    "outputId": "8c8723ce-6408-40fc-e448-5a04e093a18d"
   },
   "outputs": [
    {
     "name": "stdout",
     "output_type": "stream",
     "text": [
      "torch.Size([2, 1, 2, 1, 2])\n"
     ]
    }
   ],
   "source": [
    "z = y.unsqueeze(dim=1) # 엠티 디멘션 추가\n",
    "print(z.shape)"
   ]
  },
  {
   "cell_type": "markdown",
   "metadata": {
    "id": "LbUMiDEPK7nX"
   },
   "source": [
    "## Tensor Indexing\n",
    "\n",
    "There are many intutive examples to illustrate the indexing concept. \n",
    "I borrowed figures and examples from \n",
    " - https://medium.com/analytics-vidhya/understanding-indexing-with-pytorch-gather-33717a84ebc4\n",
    " "
   ]
  },
  {
   "cell_type": "code",
   "execution_count": null,
   "metadata": {
    "colab": {
     "base_uri": "https://localhost:8080/"
    },
    "id": "Ve9-ie0JK7nX",
    "outputId": "8d773966-545d-4c6b-ed93-9c40fca1e23a"
   },
   "outputs": [
    {
     "data": {
      "text/plain": [
       "tensor([[ 0,  1,  2,  3,  4,  5,  6,  7,  8,  9],\n",
       "        [10, 11, 12, 13, 14, 15, 16, 17, 18, 19],\n",
       "        [20, 21, 22, 23, 24, 25, 26, 27, 28, 29],\n",
       "        [30, 31, 32, 33, 34, 35, 36, 37, 38, 39]])"
      ]
     },
     "execution_count": 71,
     "metadata": {
      "tags": []
     },
     "output_type": "execute_result"
    }
   ],
   "source": [
    "x = [ [ 0,1,2,3,4,5,6,7,8,9 ], \n",
    "      [ 10,11,12,13,14,15,16,17,18,19 ], \n",
    "      [ 20,21,22,23,24,25,26,27,28,29 ], \n",
    "      [ 30,31,32,33,34,35,36,37,38,39 ], \n",
    "    ]\n",
    "x = torch.tensor(x)\n",
    "x       "
   ]
  },
  {
   "cell_type": "markdown",
   "metadata": {
    "id": "SAsDyPpvK7nX"
   },
   "source": [
    "#### indexing with \"   :  \"\n"
   ]
  },
  {
   "cell_type": "code",
   "execution_count": null,
   "metadata": {
    "colab": {
     "base_uri": "https://localhost:8080/"
    },
    "id": "I71tFbheK7nY",
    "outputId": "9e47b25f-c260-4b0b-c6af-e3deb975d89e"
   },
   "outputs": [
    {
     "data": {
      "text/plain": [
       "tensor([ 3, 13, 23, 33])"
      ]
     },
     "execution_count": 78,
     "metadata": {
      "tags": []
     },
     "output_type": "execute_result"
    }
   ],
   "source": [
    "x[:, 3]"
   ]
  },
  {
   "cell_type": "code",
   "execution_count": null,
   "metadata": {
    "colab": {
     "base_uri": "https://localhost:8080/"
    },
    "id": "WsyagtKaK7nY",
    "outputId": "16f686b7-549e-4a19-ae42-0dd11fcc2866"
   },
   "outputs": [
    {
     "data": {
      "text/plain": [
       "tensor([30, 31, 32, 33, 34, 35, 36, 37, 38, 39])"
      ]
     },
     "execution_count": 79,
     "metadata": {
      "tags": []
     },
     "output_type": "execute_result"
    }
   ],
   "source": [
    "x[3,:]"
   ]
  },
  {
   "cell_type": "code",
   "execution_count": null,
   "metadata": {
    "colab": {
     "base_uri": "https://localhost:8080/"
    },
    "id": "4JBhXyv6K7nY",
    "outputId": "077a5fd7-895e-4764-c6a3-25e2b1ced0a2",
    "scrolled": true
   },
   "outputs": [
    {
     "data": {
      "text/plain": [
       "tensor([[ 2,  3,  4],\n",
       "        [12, 13, 14],\n",
       "        [22, 23, 24],\n",
       "        [32, 33, 34]])"
      ]
     },
     "execution_count": 80,
     "metadata": {
      "tags": []
     },
     "output_type": "execute_result"
    }
   ],
   "source": [
    "x[:, 2:5]"
   ]
  },
  {
   "cell_type": "markdown",
   "metadata": {
    "id": "0NiMFbOEK7nZ"
   },
   "source": [
    "#### indexing with \" -1 \"  \n",
    "last 를 의미함"
   ]
  },
  {
   "cell_type": "code",
   "execution_count": null,
   "metadata": {
    "colab": {
     "base_uri": "https://localhost:8080/"
    },
    "id": "zaRpuAEwK7nZ",
    "outputId": "35d817ff-ec59-4f93-c97b-6de599b61205"
   },
   "outputs": [
    {
     "data": {
      "text/plain": [
       "tensor([ 9, 19, 29, 39])"
      ]
     },
     "execution_count": 75,
     "metadata": {
      "tags": []
     },
     "output_type": "execute_result"
    }
   ],
   "source": [
    "x[:, -1]"
   ]
  },
  {
   "cell_type": "code",
   "execution_count": null,
   "metadata": {
    "colab": {
     "base_uri": "https://localhost:8080/"
    },
    "id": "4r1j-uHLK7nZ",
    "outputId": "b603e7f6-5b22-4f47-8a1e-c58938dd5995"
   },
   "outputs": [
    {
     "data": {
      "text/plain": [
       "tensor([30, 31, 32, 33, 34, 35, 36, 37, 38, 39])"
      ]
     },
     "execution_count": 76,
     "metadata": {
      "tags": []
     },
     "output_type": "execute_result"
    }
   ],
   "source": [
    "x[-1, :]"
   ]
  },
  {
   "cell_type": "markdown",
   "metadata": {
    "id": "DH7aKofDK7na"
   },
   "source": [
    "Sometimes, you can just index the element - what you want"
   ]
  },
  {
   "cell_type": "code",
   "execution_count": null,
   "metadata": {
    "colab": {
     "base_uri": "https://localhost:8080/"
    },
    "id": "FdefXbp1K7na",
    "outputId": "1c293700-266d-4a9c-a747-5e43c8309a3a"
   },
   "outputs": [
    {
     "name": "stdout",
     "output_type": "stream",
     "text": [
      "tensor([[ 0,  1,  2,  3,  4,  5,  6,  7,  8,  9],\n",
      "        [10, 11, 12, 13, 14, 15, 16, 17, 18, 19],\n",
      "        [20, 21, 22, 23, 24, 25, 26, 27, 28, 29],\n",
      "        [30, 31, 32, 33, 34, 35, 36, 37, 38, 39]])\n",
      "---\n"
     ]
    },
    {
     "data": {
      "text/plain": [
       "tensor([[ 3,  7,  1,  4],\n",
       "        [13, 17, 11, 14],\n",
       "        [23, 27, 21, 24],\n",
       "        [33, 37, 31, 34]])"
      ]
     },
     "execution_count": 77,
     "metadata": {
      "tags": []
     },
     "output_type": "execute_result"
    }
   ],
   "source": [
    "x = [ [ 0,  1, 2, 3, 4, 5, 6, 7, 8, 9 ], \n",
    "      [ 10,11,12,13,14,15,16,17,18,19 ], \n",
    "      [ 20,21,22,23,24,25,26,27,28,29 ], \n",
    "      [ 30,31,32,33,34,35,36,37,38,39 ], \n",
    "    ]\n",
    "x = torch.tensor(x)\n",
    "indices = torch.LongTensor([3,7,1,4])\n",
    "print(x)\n",
    "print(\"---\")\n",
    "x[:,indices]"
   ]
  },
  {
   "cell_type": "markdown",
   "metadata": {
    "id": "oFiKmeJ4K7nb"
   },
   "source": [
    "## Reduce Operations\n",
    "\n",
    "There are many reducing operations to select item or reduce tensor values \n",
    " - min, max, mean\n",
    " - argmax, argmin "
   ]
  },
  {
   "cell_type": "code",
   "execution_count": null,
   "metadata": {
    "colab": {
     "base_uri": "https://localhost:8080/"
    },
    "id": "6tiD6XOFK7nb",
    "outputId": "3b4ed9d7-eb11-450e-ce8e-01e308d487da"
   },
   "outputs": [
    {
     "name": "stdout",
     "output_type": "stream",
     "text": [
      "tensor([[[ 1,  2,  3,  4],\n",
      "         [ 5,  6,  7,  8]],\n",
      "\n",
      "        [[21, 22, 23, 24],\n",
      "         [25, 26, 27, 28]],\n",
      "\n",
      "        [[11, 12, 13, 14],\n",
      "         [15, 16, 17, 18]]])\n",
      "torch.Size([3, 2, 4])\n"
     ]
    }
   ],
   "source": [
    "a = torch.tensor( [\n",
    "                        [\n",
    "                            [ 1, 2, 3, 4 ], \n",
    "                            [ 5, 6, 7, 8 ], \n",
    "                        ],\n",
    "                        [\n",
    "                            [ 21, 22, 23, 24 ], \n",
    "                            [ 25, 26, 27, 28 ], \n",
    "                        ],\n",
    "                        [\n",
    "                            [ 11, 12, 13, 14 ], \n",
    "                            [ 15, 16, 17, 18 ], \n",
    "                        ],\n",
    "                        \n",
    "                  ]\n",
    "                  )\n",
    "print(a)\n",
    "print(a.shape)"
   ]
  },
  {
   "cell_type": "code",
   "execution_count": null,
   "metadata": {
    "colab": {
     "base_uri": "https://localhost:8080/"
    },
    "id": "oLo2wu5VK7nb",
    "outputId": "a20c9c4c-3e90-4f8c-bf18-7b775e1ff35e"
   },
   "outputs": [
    {
     "data": {
      "text/plain": [
       "tensor(28)"
      ]
     },
     "execution_count": 82,
     "metadata": {
      "tags": []
     },
     "output_type": "execute_result"
    }
   ],
   "source": [
    "torch.max(a)   # <-- find best value over all elements in a tensor"
   ]
  },
  {
   "cell_type": "code",
   "execution_count": null,
   "metadata": {
    "colab": {
     "base_uri": "https://localhost:8080/"
    },
    "id": "T0VveYaSK7nc",
    "outputId": "257623a4-71b5-4ea9-eae7-c4672e820c13"
   },
   "outputs": [
    {
     "name": "stdout",
     "output_type": "stream",
     "text": [
      "torch.return_types.max(\n",
      "values=tensor([[ 4,  8],\n",
      "        [24, 28],\n",
      "        [14, 18]]),\n",
      "indices=tensor([[3, 3],\n",
      "        [3, 3],\n",
      "        [3, 3]]))\n",
      "shape :  torch.Size([3, 2])\n"
     ]
    }
   ],
   "source": [
    "m = torch.max(a, dim=2)\n",
    "print(m) # <-- note that .max() return tuple ( values, indices ) \n",
    "print(\"shape : \", m.values.shape)"
   ]
  },
  {
   "cell_type": "markdown",
   "metadata": {
    "id": "SYh1R7C8K7nc"
   },
   "source": [
    "#### argmax and argmin get indices of max or min directly "
   ]
  },
  {
   "cell_type": "code",
   "execution_count": null,
   "metadata": {
    "colab": {
     "base_uri": "https://localhost:8080/"
    },
    "id": "5mt4OvC3K7nd",
    "outputId": "8d555391-860b-477d-ad47-14a8bac69e6e"
   },
   "outputs": [
    {
     "data": {
      "text/plain": [
       "tensor([[3, 3],\n",
       "        [3, 3],\n",
       "        [3, 3]])"
      ]
     },
     "execution_count": 84,
     "metadata": {
      "tags": []
     },
     "output_type": "execute_result"
    }
   ],
   "source": [
    "torch.argmax(a, dim=2)"
   ]
  }
 ],
 "metadata": {
  "accelerator": "GPU",
  "colab": {
   "collapsed_sections": [
    "gu_w-cbkK7m6",
    "ALJcM4MlK7m7",
    "cPaTjqQJK7nE"
   ],
   "name": "Tensor Operation Tutorial.ipynb",
   "provenance": [],
   "toc_visible": true
  },
  "kernelspec": {
   "display_name": "Python 3",
   "language": "python",
   "name": "python3"
  },
  "language_info": {
   "codemirror_mode": {
    "name": "ipython",
    "version": 3
   },
   "file_extension": ".py",
   "mimetype": "text/x-python",
   "name": "python",
   "nbconvert_exporter": "python",
   "pygments_lexer": "ipython3",
   "version": "3.7.11"
  }
 },
 "nbformat": 4,
 "nbformat_minor": 1
}
