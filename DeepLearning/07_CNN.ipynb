{
  "nbformat": 4,
  "nbformat_minor": 0,
  "metadata": {
    "kernelspec": {
      "display_name": "Python 3",
      "language": "python",
      "name": "python3"
    },
    "language_info": {
      "codemirror_mode": {
        "name": "ipython",
        "version": 3
      },
      "file_extension": ".py",
      "mimetype": "text/x-python",
      "name": "python",
      "nbconvert_exporter": "python",
      "pygments_lexer": "ipython3",
      "version": "3.7.5"
    },
    "colab": {
      "name": "07.CNN.ipynb",
      "provenance": [],
      "collapsed_sections": []
    },
    "accelerator": "GPU"
  },
  "cells": [
    {
      "cell_type": "markdown",
      "metadata": {
        "id": "IynZJWjwVMpR"
      },
      "source": [
        "<a href=\"https://colab.research.google.com/github/minsuk-heo/tf2/blob/master/jupyter_notebooks/07.CNN.ipynb\" target=\"_parent\"><img src=\"https://colab.research.google.com/assets/colab-badge.svg\" alt=\"Open In Colab\"/></a>"
      ]
    },
    {
      "cell_type": "markdown",
      "metadata": {
        "id": "EkvIund1VMpT"
      },
      "source": [
        "# CNN (Convolutional Neural Network)"
      ]
    },
    {
      "cell_type": "code",
      "metadata": {
        "id": "47D9SXpDVMpU"
      },
      "source": [
        "from IPython.display import Image"
      ],
      "execution_count": 1,
      "outputs": []
    },
    {
      "cell_type": "code",
      "metadata": {
        "id": "26FkMrlVVMpV"
      },
      "source": [
        "from __future__ import absolute_import, division, print_function, unicode_literals\n",
        "\n",
        "try:\n",
        "  %tensorflow_version 2.x\n",
        "except Exception:\n",
        "  pass\n",
        "\n",
        "import tensorflow as tf\n",
        "\n",
        "tf.random.set_seed(1)"
      ],
      "execution_count": 2,
      "outputs": []
    },
    {
      "cell_type": "code",
      "metadata": {
        "id": "_oKDLUVmVMpW"
      },
      "source": [
        "import tensorflow as tf\n",
        "from tensorflow.keras.datasets import mnist\n",
        "from tensorflow.keras.models import Sequential\n",
        "from tensorflow.keras.layers import Dense, Dropout, Flatten\n",
        "from tensorflow.keras.layers import Conv2D, MaxPooling2D\n",
        "from tensorflow.keras import backend as K\n",
        "from tensorflow.keras.losses import categorical_crossentropy\n",
        "from tensorflow.keras.optimizers import Adam\n",
        "from tensorflow.keras.callbacks import EarlyStopping, ModelCheckpoint"
      ],
      "execution_count": 3,
      "outputs": []
    },
    {
      "cell_type": "markdown",
      "metadata": {
        "id": "xm9FPuqGVMpX"
      },
      "source": [
        "# Preprocessing"
      ]
    },
    {
      "cell_type": "code",
      "metadata": {
        "id": "8IXrNdS4VMpY",
        "colab": {
          "base_uri": "https://localhost:8080/"
        },
        "outputId": "c6036d4a-e566-46c6-ba09-e5773a92914b"
      },
      "source": [
        "# collect MNIST data\n",
        "(x_train, y_train), (x_test, y_test) = tf.keras.datasets.mnist.load_data()"
      ],
      "execution_count": 4,
      "outputs": [
        {
          "output_type": "stream",
          "name": "stdout",
          "text": [
            "Downloading data from https://storage.googleapis.com/tensorflow/tf-keras-datasets/mnist.npz\n",
            "11493376/11490434 [==============================] - 0s 0us/step\n",
            "11501568/11490434 [==============================] - 0s 0us/step\n"
          ]
        }
      ]
    },
    {
      "cell_type": "code",
      "metadata": {
        "id": "1TqUSIjwVMpa",
        "colab": {
          "base_uri": "https://localhost:8080/"
        },
        "outputId": "beb9070b-7218-43ad-bb0f-f87388f1fcf2"
      },
      "source": [
        "# sample to show gray scale values\n",
        "print(x_train[0][8])"
      ],
      "execution_count": 5,
      "outputs": [
        {
          "output_type": "stream",
          "name": "stdout",
          "text": [
            "[  0   0   0   0   0   0   0  18 219 253 253 253 253 253 198 182 247 241\n",
            "   0   0   0   0   0   0   0   0   0   0]\n"
          ]
        }
      ]
    },
    {
      "cell_type": "code",
      "metadata": {
        "id": "uMeNUmbwVMpd",
        "colab": {
          "base_uri": "https://localhost:8080/"
        },
        "outputId": "39197517-8a76-4f3f-facb-48171e0d1bc7"
      },
      "source": [
        "# sample to show labels for first train data to 10th train data\n",
        "print(y_train[0:9])"
      ],
      "execution_count": 6,
      "outputs": [
        {
          "output_type": "stream",
          "name": "stdout",
          "text": [
            "[5 0 4 1 9 2 1 3 1]\n"
          ]
        }
      ]
    },
    {
      "cell_type": "code",
      "metadata": {
        "id": "zxxm2TxqVMpe",
        "colab": {
          "base_uri": "https://localhost:8080/"
        },
        "outputId": "01a8880e-653e-4f41-d81c-7f1c60d38389"
      },
      "source": [
        "print(\"test data has \" + str(x_test.shape[0]) + \" samples\")\n",
        "print(\"every test data is \" + str(x_test.shape[1]) \n",
        "      + \" * \" + str(x_test.shape[2]) + \" image\")"
      ],
      "execution_count": 7,
      "outputs": [
        {
          "output_type": "stream",
          "name": "stdout",
          "text": [
            "test data has 10000 samples\n",
            "every test data is 28 * 28 image\n"
          ]
        }
      ]
    },
    {
      "cell_type": "code",
      "metadata": {
        "id": "PCkdO5XtVMpf",
        "colab": {
          "base_uri": "https://localhost:8080/"
        },
        "outputId": "c1415b54-4494-4178-878e-f539a2bd0b08"
      },
      "source": [
        "# reshape data\n",
        "import numpy as np\n",
        "x_train = np.reshape(x_train, (60000,28,28,1))\n",
        "x_test = np.reshape(x_test, (10000,28,28,1))\n",
        "\n",
        "print(x_train.shape)\n",
        "print(x_test.shape)"
      ],
      "execution_count": 8,
      "outputs": [
        {
          "output_type": "stream",
          "name": "stdout",
          "text": [
            "(60000, 28, 28, 1)\n",
            "(10000, 28, 28, 1)\n"
          ]
        }
      ]
    },
    {
      "cell_type": "code",
      "metadata": {
        "id": "BSam6p-4VMpf"
      },
      "source": [
        "# normalization\n",
        "x_train = x_train.astype('float32')\n",
        "x_test = x_test.astype('float32')\n",
        "\n",
        "gray_scale = 255\n",
        "x_train /= gray_scale\n",
        "x_test /= gray_scale"
      ],
      "execution_count": 9,
      "outputs": []
    },
    {
      "cell_type": "code",
      "metadata": {
        "id": "3fOsV0-GVMpg"
      },
      "source": [
        "# change label to one hot encoding\n",
        "num_classes = 10\n",
        "y_train = tf.keras.utils.to_categorical(y_train, num_classes)\n",
        "y_test = tf.keras.utils.to_categorical(y_test, num_classes)"
      ],
      "execution_count": 10,
      "outputs": []
    },
    {
      "cell_type": "markdown",
      "metadata": {
        "id": "fLZJgWNCVMpg"
      },
      "source": [
        "### We will implement below CNN"
      ]
    },
    {
      "cell_type": "code",
      "metadata": {
        "id": "hFvzVjWMVMph",
        "colab": {
          "base_uri": "https://localhost:8080/",
          "height": 220
        },
        "outputId": "930c9910-7a0b-449d-f136-94604b1bdf0b"
      },
      "source": [
        "Image(url= \"https://raw.githubusercontent.com/captainchargers/deeplearning/master/img/practice_cnn.png\", width=800, height=200)"
      ],
      "execution_count": 11,
      "outputs": [
        {
          "output_type": "execute_result",
          "data": {
            "text/html": [
              "<img src=\"https://raw.githubusercontent.com/captainchargers/deeplearning/master/img/practice_cnn.png\" width=\"800\" height=\"200\"/>"
            ],
            "text/plain": [
              "<IPython.core.display.Image object>"
            ]
          },
          "metadata": {},
          "execution_count": 11
        }
      ]
    },
    {
      "cell_type": "code",
      "metadata": {
        "id": "up7yw_E5VMph"
      },
      "source": [
        "model = Sequential()\n",
        "model.add(Conv2D(16, kernel_size=(5, 5),\n",
        "                 activation='relu',\n",
        "                 input_shape=(28,28,1),padding='same'))  # (필터의 커널갯수, 커널사이즈, 활성함수, 인풋, 패딩)\n",
        "model.add(MaxPooling2D(pool_size=(2, 2)))\n",
        "model.add(Conv2D(32, kernel_size=(5, 5), activation='relu',padding='same'))  # same : 출력 이미지 사이즈가 입력 이미지 사이즈와 동일\n",
        "model.add(MaxPooling2D(pool_size=(2, 2)))\n",
        "model.add(Flatten())\n",
        "model.add(Dense(128, activation='relu'))\n",
        "model.add(Dense(num_classes, activation='softmax'))"
      ],
      "execution_count": 12,
      "outputs": []
    },
    {
      "cell_type": "code",
      "metadata": {
        "id": "7DsiFZJlVMpi",
        "colab": {
          "base_uri": "https://localhost:8080/"
        },
        "outputId": "4154aa43-cf6c-49d2-9871-8982e52ab81e"
      },
      "source": [
        "model.summary()"
      ],
      "execution_count": 13,
      "outputs": [
        {
          "output_type": "stream",
          "name": "stdout",
          "text": [
            "Model: \"sequential\"\n",
            "_________________________________________________________________\n",
            "Layer (type)                 Output Shape              Param #   \n",
            "=================================================================\n",
            "conv2d (Conv2D)              (None, 28, 28, 16)        416       \n",
            "_________________________________________________________________\n",
            "max_pooling2d (MaxPooling2D) (None, 14, 14, 16)        0         \n",
            "_________________________________________________________________\n",
            "conv2d_1 (Conv2D)            (None, 14, 14, 32)        12832     \n",
            "_________________________________________________________________\n",
            "max_pooling2d_1 (MaxPooling2 (None, 7, 7, 32)          0         \n",
            "_________________________________________________________________\n",
            "flatten (Flatten)            (None, 1568)              0         \n",
            "_________________________________________________________________\n",
            "dense (Dense)                (None, 128)               200832    \n",
            "_________________________________________________________________\n",
            "dense_1 (Dense)              (None, 10)                1290      \n",
            "=================================================================\n",
            "Total params: 215,370\n",
            "Trainable params: 215,370\n",
            "Non-trainable params: 0\n",
            "_________________________________________________________________\n"
          ]
        }
      ]
    },
    {
      "cell_type": "code",
      "metadata": {
        "id": "yo8HB4UIVMpi"
      },
      "source": [
        "model.compile(loss=categorical_crossentropy,\n",
        "              optimizer=Adam(),\n",
        "              metrics=['accuracy'])"
      ],
      "execution_count": 14,
      "outputs": []
    },
    {
      "cell_type": "code",
      "metadata": {
        "id": "kqWIWYDiVMpj"
      },
      "source": [
        "callbacks = [EarlyStopping(monitor='val_accuracy', patience=2, restore_best_weights=False),\n",
        "             ModelCheckpoint(filepath='best_model.h5', monitor='val_accuracy', save_best_only=True)]"
      ],
      "execution_count": 15,
      "outputs": []
    },
    {
      "cell_type": "code",
      "metadata": {
        "scrolled": false,
        "id": "fHJQYl6GVMpj",
        "colab": {
          "base_uri": "https://localhost:8080/"
        },
        "outputId": "f2337f61-d5c1-4d70-f0f3-4ba674e438b2"
      },
      "source": [
        "model.fit(x_train, y_train,\n",
        "          batch_size=500,\n",
        "          epochs=10,\n",
        "          verbose=1,\n",
        "          validation_split = 0.1, \n",
        "          callbacks=callbacks)"
      ],
      "execution_count": 16,
      "outputs": [
        {
          "output_type": "stream",
          "name": "stdout",
          "text": [
            "Epoch 1/10\n",
            "108/108 [==============================] - 33s 23ms/step - loss: 0.4869 - accuracy: 0.8704 - val_loss: 0.1215 - val_accuracy: 0.9657\n",
            "Epoch 2/10\n",
            "108/108 [==============================] - 2s 21ms/step - loss: 0.1076 - accuracy: 0.9682 - val_loss: 0.0772 - val_accuracy: 0.9787\n",
            "Epoch 3/10\n",
            "108/108 [==============================] - 2s 22ms/step - loss: 0.0713 - accuracy: 0.9784 - val_loss: 0.0571 - val_accuracy: 0.9843\n",
            "Epoch 4/10\n",
            "108/108 [==============================] - 2s 21ms/step - loss: 0.0541 - accuracy: 0.9837 - val_loss: 0.0478 - val_accuracy: 0.9872\n",
            "Epoch 5/10\n",
            "108/108 [==============================] - 2s 21ms/step - loss: 0.0447 - accuracy: 0.9865 - val_loss: 0.0414 - val_accuracy: 0.9888\n",
            "Epoch 6/10\n",
            "108/108 [==============================] - 2s 21ms/step - loss: 0.0392 - accuracy: 0.9880 - val_loss: 0.0417 - val_accuracy: 0.9882\n",
            "Epoch 7/10\n",
            "108/108 [==============================] - 2s 21ms/step - loss: 0.0317 - accuracy: 0.9899 - val_loss: 0.0416 - val_accuracy: 0.9880\n"
          ]
        },
        {
          "output_type": "execute_result",
          "data": {
            "text/plain": [
              "<keras.callbacks.History at 0x7f45e005b3d0>"
            ]
          },
          "metadata": {},
          "execution_count": 16
        }
      ]
    },
    {
      "cell_type": "code",
      "metadata": {
        "id": "DQCi_HYZVMpk",
        "colab": {
          "base_uri": "https://localhost:8080/"
        },
        "outputId": "5734dadc-86e4-48be-e851-134009c460e2"
      },
      "source": [
        "score = model.evaluate(x_test, y_test, verbose=0)\n",
        "print('Test loss:', score[0])\n",
        "print('Test accuracy:', score[1])"
      ],
      "execution_count": 17,
      "outputs": [
        {
          "output_type": "stream",
          "name": "stdout",
          "text": [
            "Test loss: 0.032092515379190445\n",
            "Test accuracy: 0.9894000291824341\n"
          ]
        }
      ]
    },
    {
      "cell_type": "code",
      "metadata": {
        "id": "rWVZJyRyVMpl"
      },
      "source": [
        ""
      ],
      "execution_count": 17,
      "outputs": []
    }
  ]
}